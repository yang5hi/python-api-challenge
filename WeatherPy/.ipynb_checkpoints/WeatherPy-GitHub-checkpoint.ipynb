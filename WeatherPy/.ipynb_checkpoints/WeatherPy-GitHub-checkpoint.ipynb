{
 "cells": [
  {
   "cell_type": "markdown",
   "metadata": {},
   "source": [
    "# WeatherPy"
   ]
  },
  {
   "cell_type": "markdown",
   "metadata": {},
   "source": [
    "## Observable Trends\n",
    "* Maximum temperature is higher around equator and southern latitude in March, the maximum temperature reduces when the latitude increases in the northen hemisphere. The linear regress of the temperature vs. latitude in the northern hemisphere indicated that there is a strong linear relationship between the two.\n",
    "\n",
    "* Most the cities in the study have Humidity above 60% on the day of study. Human tend to live in higher humidy areas than places with dry air regardless of the latitude.\n",
    "\n",
    "* The cloudiness (%) data points concentrated on 0%, 20%, 40%, 80% and 100%; which could be a sysmetic measurement error. Otherwise, the cloudiness (%) data seem to evenly distributed around the cities in the study on the date of study regardless of the latitude.\n",
    "\n",
    "* The wind speed (mph) data points concentrated on lower half of the graph; which indicated that the wind is not strong around the cities in the study on the date of study regardless of the latitude. Definitely no tornadoes, hurricane or typhoon."
   ]
  },
  {
   "cell_type": "code",
   "execution_count": 1,
   "metadata": {},
   "outputs": [],
   "source": [
    "# Dependencies and Setup\n",
    "import matplotlib.pyplot as plt\n",
    "import pandas as pd\n",
    "import numpy as np\n",
    "import requests\n",
    "import json\n",
    "import time\n",
    "from scipy.stats import linregress\n",
    "from pprint import pprint\n",
    "\n",
    "# Incorporated citipy to determine city based on latitude and longitude\n",
    "from citipy import citipy\n",
    "\n",
    "# Output File (CSV)\n",
    "output_data_file = \"../output_data/cities.csv\"\n",
    "\n",
    "# Range of latitudes and longitudes\n",
    "lat_range = (-90, 90)\n",
    "lng_range = (-180, 180)\n",
    "\n",
    "# Import API key from parent folder\n",
    "import sys\n",
    "sys.path.insert(0, '..')\n",
    "from api_keys import weather_api_key"
   ]
  },
  {
   "cell_type": "markdown",
   "metadata": {},
   "source": [
    "## Generate Cities List"
   ]
  },
  {
   "cell_type": "code",
   "execution_count": 2,
   "metadata": {},
   "outputs": [
    {
     "data": {
      "text/plain": [
       "596"
      ]
     },
     "execution_count": 2,
     "metadata": {},
     "output_type": "execute_result"
    }
   ],
   "source": [
    "# List for holding lat_lngs and cities\n",
    "lat_lngs = []\n",
    "cities = []\n",
    "\n",
    "# Create a set of random lat and lng combinations\n",
    "lats = np.random.uniform(lat_range[0], lat_range[1], size=1500)\n",
    "lngs = np.random.uniform(lng_range[0], lng_range[1], size=1500)\n",
    "lat_lngs = zip(lats, lngs)\n",
    "\n",
    "# Identify nearest city for each lat, lng combination\n",
    "for lat_lng in lat_lngs:\n",
    "    city = citipy.nearest_city(lat_lng[0], lat_lng[1]).city_name\n",
    "    \n",
    "    # If the city is unique, then add it to a our cities list\n",
    "    if city not in cities:\n",
    "        cities.append(city)\n",
    "\n",
    "# Print the city count to confirm sufficient count\n",
    "len(cities)"
   ]
  },
  {
   "cell_type": "markdown",
   "metadata": {},
   "source": [
    "### Perform API Calls\n",
    "* Perform a weather check on each city using a series of successive API calls.\n",
    "* Include a print log of each city as it'sbeing processed (with the city number and city name).\n"
   ]
  },
  {
   "cell_type": "code",
   "execution_count": 3,
   "metadata": {
    "scrolled": true
   },
   "outputs": [
    {
     "name": "stdout",
     "output_type": "stream",
     "text": [
      "Processing Record 1 of Set 1 | albany\n",
      "Processing Record 2 of Set 1 | hasaki\n",
      "Processing Record 3 of Set 1 | tiksi\n",
      "Processing Record 4 of Set 1 | petit-bourg\n",
      "Processing Record 5 of Set 1 | rikitea\n",
      "Processing Record 6 of Set 1 | iqaluit\n",
      "Processing Record 7 of Set 1 | lulea\n",
      "Processing Record 8 of Set 1 | chuy\n",
      "Processing Record 9 of Set 1 | lolua\n",
      "City not found. Skipping...\n",
      "Processing Record 10 of Set 1 | dikson\n",
      "Processing Record 11 of Set 1 | rio grande\n",
      "Processing Record 12 of Set 1 | souillac\n",
      "Processing Record 13 of Set 1 | arraial do cabo\n",
      "Processing Record 14 of Set 1 | kuche\n",
      "City not found. Skipping...\n",
      "Processing Record 15 of Set 1 | marcona\n",
      "City not found. Skipping...\n",
      "Processing Record 16 of Set 1 | mooi river\n",
      "City not found. Skipping...\n",
      "Processing Record 17 of Set 1 | khatanga\n",
      "Processing Record 18 of Set 1 | puerto ayora\n",
      "Processing Record 19 of Set 1 | los llanos de aridane\n",
      "Processing Record 20 of Set 1 | yellowknife\n",
      "Processing Record 21 of Set 1 | hamilton\n",
      "Processing Record 22 of Set 1 | saint-augustin\n",
      "Processing Record 23 of Set 1 | georgetown\n",
      "Processing Record 24 of Set 1 | port blair\n",
      "Processing Record 25 of Set 1 | rawson\n",
      "Processing Record 26 of Set 1 | busselton\n",
      "Processing Record 27 of Set 1 | kabo\n",
      "Processing Record 28 of Set 1 | torbay\n",
      "Processing Record 29 of Set 1 | kuytun\n",
      "Processing Record 30 of Set 1 | leningradskiy\n",
      "Processing Record 31 of Set 1 | galle\n",
      "Processing Record 32 of Set 1 | pangnirtung\n",
      "Processing Record 33 of Set 1 | illoqqortoormiut\n",
      "City not found. Skipping...\n",
      "Processing Record 34 of Set 1 | tuktoyaktuk\n",
      "Processing Record 35 of Set 1 | olafsvik\n",
      "Processing Record 36 of Set 1 | kapaa\n",
      "Processing Record 37 of Set 1 | ushuaia\n",
      "Processing Record 38 of Set 1 | belushya guba\n",
      "City not found. Skipping...\n",
      "Processing Record 39 of Set 1 | hithadhoo\n",
      "Processing Record 40 of Set 1 | kodiak\n",
      "Processing Record 41 of Set 1 | ponta do sol\n",
      "Processing Record 42 of Set 1 | mataura\n",
      "Processing Record 43 of Set 1 | kaitangata\n",
      "Processing Record 44 of Set 1 | kachug\n",
      "Processing Record 45 of Set 1 | najran\n",
      "Processing Record 46 of Set 1 | marzuq\n",
      "Processing Record 47 of Set 1 | bredasdorp\n",
      "Processing Record 48 of Set 1 | hilo\n",
      "Processing Record 49 of Set 1 | katsuura\n",
      "Processing Record 50 of Set 1 | barentsburg\n",
      "City not found. Skipping...\n",
      "Processing Record 51 of Set 1 | korla\n",
      "Processing Record 52 of Set 1 | nyrob\n",
      "Processing Record 53 of Set 1 | new norfolk\n",
      "Processing Record 54 of Set 1 | nizhneyansk\n",
      "City not found. Skipping...\n",
      "Processing Record 55 of Set 1 | vanimo\n",
      "Processing Record 56 of Set 1 | punta arenas\n",
      "Processing Record 57 of Set 1 | vaini\n",
      "Processing Record 58 of Set 1 | albert lea\n",
      "Processing Record 59 of Set 1 | ribeira grande\n",
      "Processing Record 60 of Set 1 | jamestown\n",
      "Processing Record 61 of Set 1 | guasdualito\n",
      "Processing Record 62 of Set 1 | bluff\n",
      "Processing Record 63 of Set 1 | ilulissat\n",
      "Processing Record 64 of Set 1 | tiznit\n",
      "Processing Record 65 of Set 1 | glenboig\n",
      "Processing Record 66 of Set 1 | severo-kurilsk\n",
      "Processing Record 67 of Set 1 | rocha\n",
      "Processing Record 68 of Set 1 | esperance\n",
      "Processing Record 69 of Set 1 | katoro\n",
      "Processing Record 70 of Set 1 | barrow\n",
      "Processing Record 71 of Set 1 | taolanaro\n",
      "City not found. Skipping...\n",
      "Processing Record 72 of Set 1 | bardiyah\n",
      "Processing Record 73 of Set 1 | belmonte\n",
      "Processing Record 74 of Set 1 | jinchang\n",
      "Processing Record 75 of Set 1 | sinnamary\n",
      "Processing Record 76 of Set 1 | necochea\n",
      "Processing Record 77 of Set 1 | lorengau\n",
      "Processing Record 78 of Set 1 | cabo san lucas\n",
      "Processing Record 79 of Set 1 | sao joao da barra\n",
      "Processing Record 80 of Set 1 | bambous virieux\n",
      "Processing Record 81 of Set 1 | norman wells\n",
      "Processing Record 82 of Set 1 | kabinda\n",
      "Processing Record 83 of Set 1 | karratha\n",
      "Processing Record 84 of Set 1 | codrington\n",
      "Processing Record 85 of Set 1 | east london\n",
      "Processing Record 86 of Set 1 | caravelas\n",
      "Processing Record 87 of Set 1 | hobart\n",
      "Processing Record 88 of Set 1 | alofi\n",
      "Processing Record 89 of Set 1 | yangambi\n",
      "Processing Record 90 of Set 1 | nikolskoye\n",
      "Processing Record 91 of Set 1 | khonuu\n",
      "City not found. Skipping...\n",
      "Processing Record 92 of Set 1 | grootfontein\n",
      "Processing Record 93 of Set 1 | ambunti\n",
      "Processing Record 94 of Set 1 | coihaique\n",
      "Processing Record 95 of Set 1 | lebu\n",
      "Processing Record 96 of Set 1 | cidreira\n",
      "Processing Record 97 of Set 1 | castro\n",
      "Processing Record 98 of Set 1 | airai\n",
      "Processing Record 99 of Set 1 | nanortalik\n",
      "Processing Record 100 of Set 1 | itzican\n",
      "City not found. Skipping...\n",
      "Processing Record 101 of Set 1 | jacareacanga\n",
      "Processing Record 102 of Set 1 | olinda\n",
      "Processing Record 103 of Set 1 | douglas\n",
      "Processing Record 104 of Set 1 | port elizabeth\n",
      "Processing Record 105 of Set 1 | harper\n",
      "Processing Record 106 of Set 1 | ambanja\n",
      "Processing Record 107 of Set 1 | victoria\n",
      "Processing Record 108 of Set 1 | bolungarvik\n",
      "City not found. Skipping...\n",
      "Processing Record 109 of Set 1 | tuatapere\n",
      "Processing Record 110 of Set 1 | grand river south east\n",
      "City not found. Skipping...\n",
      "Processing Record 111 of Set 1 | dobryatino\n",
      "Processing Record 112 of Set 1 | kruisfontein\n",
      "Processing Record 113 of Set 1 | port shepstone\n",
      "Processing Record 114 of Set 1 | borovskoy\n",
      "Processing Record 115 of Set 1 | qaanaaq\n",
      "Processing Record 116 of Set 1 | zhigansk\n",
      "Processing Record 117 of Set 1 | deogarh\n",
      "Processing Record 118 of Set 1 | mahadday weyne\n",
      "City not found. Skipping...\n",
      "Processing Record 119 of Set 1 | tumannyy\n",
      "City not found. Skipping...\n",
      "Processing Record 120 of Set 1 | carnarvon\n",
      "Processing Record 121 of Set 1 | sungairaya\n",
      "Processing Record 122 of Set 1 | soligalich\n",
      "Processing Record 123 of Set 1 | attawapiskat\n",
      "City not found. Skipping...\n",
      "Processing Record 124 of Set 1 | coquimbo\n",
      "Processing Record 125 of Set 1 | aklavik\n",
      "Processing Record 126 of Set 1 | longyearbyen\n",
      "Processing Record 127 of Set 1 | vardo\n",
      "Processing Record 128 of Set 1 | bolshoye nagatkino\n",
      "Processing Record 129 of Set 1 | upernavik\n",
      "Processing Record 130 of Set 1 | goundam\n",
      "Processing Record 131 of Set 1 | mariakani\n",
      "Processing Record 132 of Set 1 | ostrovnoy\n",
      "Processing Record 133 of Set 1 | gorontalo\n",
      "Processing Record 134 of Set 1 | salina\n",
      "Processing Record 135 of Set 1 | meulaboh\n",
      "Processing Record 136 of Set 1 | mayumba\n",
      "Processing Record 137 of Set 1 | hanchuan\n",
      "Processing Record 138 of Set 1 | pedernales\n",
      "Processing Record 139 of Set 1 | mys shmidta\n",
      "City not found. Skipping...\n",
      "Processing Record 140 of Set 1 | inhambane\n",
      "Processing Record 141 of Set 1 | cape town\n",
      "Processing Record 142 of Set 1 | cape canaveral\n",
      "Processing Record 143 of Set 1 | trairi\n",
      "Processing Record 144 of Set 1 | pisco\n",
      "Processing Record 145 of Set 1 | grindavik\n",
      "Processing Record 146 of Set 1 | lavrentiya\n",
      "Processing Record 147 of Set 1 | tasiilaq\n",
      "Processing Record 148 of Set 1 | makakilo city\n",
      "Processing Record 149 of Set 1 | isangel\n",
      "Processing Record 150 of Set 1 | saleaula\n",
      "City not found. Skipping...\n",
      "Processing Record 151 of Set 1 | port alfred\n",
      "Processing Record 152 of Set 1 | pevek\n",
      "Processing Record 153 of Set 1 | chokurdakh\n",
      "Processing Record 154 of Set 1 | kupino\n",
      "Processing Record 155 of Set 1 | esil\n",
      "Processing Record 156 of Set 1 | omboue\n",
      "Processing Record 157 of Set 1 | samusu\n",
      "City not found. Skipping...\n",
      "Processing Record 158 of Set 1 | katobu\n",
      "Processing Record 159 of Set 1 | atuona\n",
      "Processing Record 160 of Set 1 | waycross\n",
      "Processing Record 161 of Set 1 | chany\n",
      "Processing Record 162 of Set 1 | waingapu\n",
      "Processing Record 163 of Set 1 | bengkulu\n",
      "Processing Record 164 of Set 1 | oussouye\n",
      "Processing Record 165 of Set 1 | thompson\n",
      "Processing Record 166 of Set 1 | novyy urengoy\n",
      "Processing Record 167 of Set 1 | constitucion\n",
      "Processing Record 168 of Set 1 | kurchum\n",
      "Processing Record 169 of Set 1 | deputatskiy\n",
      "Processing Record 170 of Set 1 | alyangula\n",
      "Processing Record 171 of Set 1 | teloes\n",
      "Processing Record 172 of Set 1 | prince george\n",
      "Processing Record 173 of Set 1 | tocopilla\n",
      "Processing Record 174 of Set 1 | hermanus\n",
      "Processing Record 175 of Set 1 | mtsensk\n",
      "Processing Record 176 of Set 1 | sitka\n",
      "Processing Record 177 of Set 1 | avarua\n",
      "Processing Record 178 of Set 1 | jalu\n",
      "Processing Record 179 of Set 1 | clyde river\n",
      "Processing Record 180 of Set 1 | sayyan\n",
      "Processing Record 181 of Set 1 | raudeberg\n",
      "Processing Record 182 of Set 1 | celestun\n",
      "Processing Record 183 of Set 1 | ayutla\n",
      "Processing Record 184 of Set 1 | mar del plata\n"
     ]
    },
    {
     "name": "stdout",
     "output_type": "stream",
     "text": [
      "Processing Record 185 of Set 1 | melito di porto salvo\n",
      "Processing Record 186 of Set 1 | provideniya\n",
      "Processing Record 187 of Set 1 | mount gambier\n",
      "Processing Record 188 of Set 1 | mount isa\n",
      "Processing Record 189 of Set 1 | halalo\n",
      "City not found. Skipping...\n",
      "Processing Record 190 of Set 1 | don benito\n",
      "Processing Record 191 of Set 1 | lithakia\n",
      "Processing Record 192 of Set 1 | san patricio\n",
      "Processing Record 193 of Set 1 | rorvik\n",
      "Processing Record 194 of Set 1 | port hedland\n",
      "Processing Record 195 of Set 1 | paamiut\n",
      "Processing Record 196 of Set 1 | vryheid\n",
      "Processing Record 197 of Set 1 | shelburne\n",
      "Processing Record 198 of Set 1 | saint-joseph\n",
      "Processing Record 199 of Set 1 | lleida\n",
      "Processing Record 200 of Set 1 | mora\n",
      "Processing Record 201 of Set 1 | quime\n",
      "Processing Record 202 of Set 1 | otta\n",
      "Processing Record 203 of Set 1 | gold coast\n",
      "Processing Record 204 of Set 1 | tongren\n",
      "Processing Record 205 of Set 1 | kuryk\n",
      "Processing Record 206 of Set 1 | iquique\n",
      "Processing Record 207 of Set 1 | barranca\n",
      "Processing Record 208 of Set 1 | tetiz\n",
      "Processing Record 209 of Set 1 | kavieng\n",
      "Processing Record 210 of Set 1 | kalmunai\n",
      "Processing Record 211 of Set 1 | hervey bay\n",
      "Processing Record 212 of Set 1 | podor\n",
      "Processing Record 213 of Set 1 | bethel\n",
      "Processing Record 214 of Set 1 | dwarka\n",
      "Processing Record 215 of Set 1 | ajaccio\n",
      "Processing Record 216 of Set 1 | matay\n",
      "Processing Record 217 of Set 1 | mahebourg\n",
      "Processing Record 218 of Set 1 | nago\n",
      "Processing Record 219 of Set 1 | saint-philippe\n",
      "Processing Record 220 of Set 1 | guozhen\n",
      "Processing Record 221 of Set 1 | cherskiy\n",
      "Processing Record 222 of Set 1 | haines junction\n",
      "Processing Record 223 of Set 1 | saint-max\n",
      "Processing Record 224 of Set 1 | mana\n",
      "Processing Record 225 of Set 1 | santa rosa\n",
      "Processing Record 226 of Set 1 | labuhan\n",
      "Processing Record 227 of Set 1 | tambura\n",
      "Processing Record 228 of Set 1 | kangundo\n",
      "Processing Record 229 of Set 1 | ancud\n",
      "Processing Record 230 of Set 1 | sentyabrskiy\n",
      "City not found. Skipping...\n",
      "Processing Record 231 of Set 1 | blagoyevo\n",
      "Processing Record 232 of Set 1 | santa maria\n",
      "Processing Record 233 of Set 1 | srednekolymsk\n",
      "Processing Record 234 of Set 1 | macomer\n",
      "Processing Record 235 of Set 1 | robertsport\n",
      "Processing Record 236 of Set 1 | sola\n",
      "Processing Record 237 of Set 1 | vastervik\n",
      "City not found. Skipping...\n",
      "Processing Record 238 of Set 1 | faanui\n",
      "Processing Record 239 of Set 1 | okha\n",
      "Processing Record 240 of Set 1 | sakakah\n",
      "Processing Record 241 of Set 1 | stamsund\n",
      "City not found. Skipping...\n",
      "Processing Record 242 of Set 1 | birao\n",
      "Processing Record 243 of Set 1 | san pedro\n",
      "Processing Record 244 of Set 1 | port lincoln\n",
      "Processing Record 245 of Set 1 | khani\n",
      "Processing Record 246 of Set 1 | nouadhibou\n",
      "Processing Record 247 of Set 1 | teguise\n",
      "Processing Record 248 of Set 1 | rudbar\n",
      "Processing Record 249 of Set 1 | te anau\n",
      "Processing Record 250 of Set 1 | tabiauea\n",
      "City not found. Skipping...\n",
      "Processing Record 251 of Set 1 | tselinnoye\n",
      "Processing Record 252 of Set 1 | redding\n",
      "Processing Record 253 of Set 1 | kuching\n",
      "Processing Record 254 of Set 1 | san policarpo\n",
      "Processing Record 255 of Set 1 | amderma\n",
      "City not found. Skipping...\n",
      "Processing Record 256 of Set 1 | warragul\n",
      "Processing Record 257 of Set 1 | nhulunbuy\n",
      "Processing Record 258 of Set 1 | bambanglipuro\n",
      "Processing Record 259 of Set 1 | bukama\n",
      "Processing Record 260 of Set 1 | butaritari\n",
      "Processing Record 261 of Set 1 | livingston\n",
      "Processing Record 262 of Set 1 | puertollano\n",
      "Processing Record 263 of Set 1 | kahului\n",
      "Processing Record 264 of Set 1 | san quintin\n",
      "Processing Record 265 of Set 1 | cayenne\n",
      "Processing Record 266 of Set 1 | socastee\n",
      "Processing Record 267 of Set 1 | maldonado\n",
      "Processing Record 268 of Set 1 | laredo\n",
      "Processing Record 269 of Set 1 | margate\n",
      "Processing Record 270 of Set 1 | kifri\n",
      "Processing Record 271 of Set 1 | yumen\n",
      "Processing Record 272 of Set 1 | klaksvik\n",
      "Processing Record 273 of Set 1 | lagoa\n",
      "Processing Record 274 of Set 1 | cockburn town\n",
      "Processing Record 275 of Set 1 | louisbourg\n",
      "City not found. Skipping...\n",
      "Processing Record 276 of Set 1 | praia\n",
      "Processing Record 277 of Set 1 | kluczbork\n",
      "Processing Record 278 of Set 1 | pyatnitskoye\n",
      "Processing Record 279 of Set 1 | teeli\n",
      "Processing Record 280 of Set 1 | la union\n",
      "Processing Record 281 of Set 1 | ambovombe\n",
      "Processing Record 282 of Set 1 | ulaangom\n",
      "Processing Record 283 of Set 1 | nome\n",
      "Processing Record 284 of Set 1 | krutinka\n",
      "Processing Record 285 of Set 1 | colti\n",
      "Processing Record 286 of Set 1 | la rioja\n",
      "Processing Record 287 of Set 1 | el retorno\n",
      "Processing Record 288 of Set 1 | beringovskiy\n",
      "Processing Record 289 of Set 1 | prince rupert\n",
      "Processing Record 290 of Set 1 | tuy hoa\n",
      "Processing Record 291 of Set 1 | qasigiannguit\n",
      "Processing Record 292 of Set 1 | atherton\n",
      "Processing Record 293 of Set 1 | puga\n",
      "Processing Record 294 of Set 1 | namatanai\n",
      "Processing Record 295 of Set 1 | sterling\n",
      "Processing Record 296 of Set 1 | egvekinot\n",
      "Processing Record 297 of Set 1 | gaspe\n",
      "Processing Record 298 of Set 1 | rongcheng\n",
      "Processing Record 299 of Set 1 | tsumeb\n",
      "Processing Record 300 of Set 1 | talnakh\n",
      "Processing Record 301 of Set 1 | muzhi\n",
      "Processing Record 302 of Set 1 | tsihombe\n",
      "City not found. Skipping...\n",
      "Processing Record 303 of Set 1 | keti bandar\n",
      "Processing Record 304 of Set 1 | sistranda\n",
      "Processing Record 305 of Set 1 | elizabeth city\n",
      "Processing Record 306 of Set 1 | husavik\n",
      "Processing Record 307 of Set 1 | palabuhanratu\n",
      "City not found. Skipping...\n",
      "Processing Record 308 of Set 1 | namibe\n",
      "Processing Record 309 of Set 1 | guerrero negro\n",
      "Processing Record 310 of Set 1 | armacao dos buzios\n",
      "City not found. Skipping...\n",
      "Processing Record 311 of Set 1 | aflu\n",
      "City not found. Skipping...\n",
      "Processing Record 312 of Set 1 | chumikan\n",
      "Processing Record 313 of Set 1 | juneau\n",
      "Processing Record 314 of Set 1 | asosa\n",
      "Processing Record 315 of Set 1 | agva\n",
      "City not found. Skipping...\n",
      "Processing Record 316 of Set 1 | masingbi\n",
      "Processing Record 317 of Set 1 | ngukurr\n",
      "City not found. Skipping...\n",
      "Processing Record 318 of Set 1 | saint george\n",
      "Processing Record 319 of Set 1 | chara\n",
      "Processing Record 320 of Set 1 | kazalinsk\n",
      "City not found. Skipping...\n",
      "Processing Record 321 of Set 1 | nemuro\n",
      "Processing Record 322 of Set 1 | sao miguel\n",
      "Processing Record 323 of Set 1 | nalut\n",
      "Processing Record 324 of Set 1 | cairns\n",
      "Processing Record 325 of Set 1 | verkhnyaya inta\n",
      "Processing Record 326 of Set 1 | gat\n",
      "Processing Record 327 of Set 1 | saskylakh\n",
      "Processing Record 328 of Set 1 | chagda\n",
      "City not found. Skipping...\n",
      "Processing Record 329 of Set 1 | padang\n",
      "Processing Record 330 of Set 1 | kovdor\n",
      "Processing Record 331 of Set 1 | am timan\n",
      "Processing Record 332 of Set 1 | stargard szczecinski\n",
      "Processing Record 333 of Set 1 | harigue\n",
      "City not found. Skipping...\n",
      "Processing Record 334 of Set 1 | luderitz\n",
      "Processing Record 335 of Set 1 | krasnoselkup\n",
      "Processing Record 336 of Set 1 | saint anthony\n",
      "Processing Record 337 of Set 1 | bonavista\n",
      "Processing Record 338 of Set 1 | lasa\n",
      "Processing Record 339 of Set 1 | vila\n",
      "Processing Record 340 of Set 1 | port hardy\n",
      "Processing Record 341 of Set 1 | ambodifototra\n",
      "City not found. Skipping...\n",
      "Processing Record 342 of Set 1 | faya\n",
      "Processing Record 343 of Set 1 | matto\n",
      "City not found. Skipping...\n",
      "Processing Record 344 of Set 1 | skjervoy\n",
      "Processing Record 345 of Set 1 | jinan\n",
      "Processing Record 346 of Set 1 | huangzhai\n",
      "Processing Record 347 of Set 1 | katherine\n",
      "Processing Record 348 of Set 1 | piacabucu\n",
      "Processing Record 349 of Set 1 | inuvik\n",
      "Processing Record 350 of Set 1 | rodez\n",
      "Processing Record 351 of Set 1 | vallenar\n",
      "Processing Record 352 of Set 1 | kosh-agach\n",
      "Processing Record 353 of Set 1 | biltine\n",
      "Processing Record 354 of Set 1 | contai\n",
      "Processing Record 355 of Set 1 | alakurtti\n",
      "Processing Record 356 of Set 1 | cibitoke\n",
      "Processing Record 357 of Set 1 | chuchkovo\n",
      "Processing Record 358 of Set 1 | kenai\n",
      "Processing Record 359 of Set 1 | doba\n",
      "Processing Record 360 of Set 1 | komsomolskiy\n",
      "Processing Record 361 of Set 1 | raga\n",
      "Processing Record 362 of Set 1 | puerto ayacucho\n",
      "Processing Record 363 of Set 1 | sernur\n",
      "Processing Record 364 of Set 1 | newport\n",
      "Processing Record 365 of Set 1 | kamenka\n",
      "Processing Record 366 of Set 1 | manta\n",
      "Processing Record 367 of Set 1 | chiredzi\n"
     ]
    },
    {
     "name": "stdout",
     "output_type": "stream",
     "text": [
      "Processing Record 368 of Set 1 | whitehorse\n",
      "Processing Record 369 of Set 1 | dingle\n",
      "Processing Record 370 of Set 1 | nushki\n",
      "Processing Record 371 of Set 1 | hokitika\n",
      "Processing Record 372 of Set 1 | shenjiamen\n",
      "Processing Record 373 of Set 1 | quang ngai\n",
      "Processing Record 374 of Set 1 | mumford\n",
      "Processing Record 375 of Set 1 | paita\n",
      "Processing Record 376 of Set 1 | opuwo\n",
      "Processing Record 377 of Set 1 | pareora\n",
      "Processing Record 378 of Set 1 | lompoc\n",
      "Processing Record 379 of Set 1 | pacific grove\n",
      "Processing Record 380 of Set 1 | mwanza\n",
      "Processing Record 381 of Set 1 | van\n",
      "Processing Record 382 of Set 1 | gushikawa\n",
      "Processing Record 383 of Set 1 | biritiba-mirim\n",
      "Processing Record 384 of Set 1 | pangai\n",
      "Processing Record 385 of Set 1 | tazovskiy\n",
      "Processing Record 386 of Set 1 | ozgon\n",
      "City not found. Skipping...\n",
      "Processing Record 387 of Set 1 | brodokalmak\n",
      "Processing Record 388 of Set 1 | edd\n",
      "Processing Record 389 of Set 1 | daru\n",
      "Processing Record 390 of Set 1 | vanderhoof\n",
      "Processing Record 391 of Set 1 | flin flon\n",
      "Processing Record 392 of Set 1 | terrasini\n",
      "Processing Record 393 of Set 1 | coos bay\n",
      "Processing Record 394 of Set 1 | toliary\n",
      "City not found. Skipping...\n",
      "Processing Record 395 of Set 1 | chalus\n",
      "Processing Record 396 of Set 1 | ribeirao do pinhal\n",
      "City not found. Skipping...\n",
      "Processing Record 397 of Set 1 | uray\n",
      "Processing Record 398 of Set 1 | xingtai\n",
      "Processing Record 399 of Set 1 | madimba\n",
      "Processing Record 400 of Set 1 | ixtapa\n",
      "Processing Record 401 of Set 1 | novobessergenevka\n",
      "Processing Record 402 of Set 1 | neiafu\n",
      "Processing Record 403 of Set 1 | babanusah\n",
      "City not found. Skipping...\n",
      "Processing Record 404 of Set 1 | kjopsvik\n",
      "Processing Record 405 of Set 1 | aykhal\n",
      "Processing Record 406 of Set 1 | mirabad\n",
      "Processing Record 407 of Set 1 | bonthe\n",
      "Processing Record 408 of Set 1 | cortez\n",
      "Processing Record 409 of Set 1 | sacramento\n",
      "Processing Record 410 of Set 1 | awbari\n",
      "Processing Record 411 of Set 1 | linjiang\n",
      "Processing Record 412 of Set 1 | qeshm\n",
      "Processing Record 413 of Set 1 | barra patuca\n",
      "Processing Record 414 of Set 1 | betong\n",
      "Processing Record 415 of Set 1 | taoudenni\n",
      "Processing Record 416 of Set 1 | yeppoon\n",
      "Processing Record 417 of Set 1 | pyrzyce\n",
      "Processing Record 418 of Set 1 | gorele\n",
      "Processing Record 419 of Set 1 | ashland\n",
      "Processing Record 420 of Set 1 | teruel\n",
      "Processing Record 421 of Set 1 | santa cruz\n",
      "Processing Record 422 of Set 1 | the valley\n",
      "Processing Record 423 of Set 1 | beyneu\n",
      "Processing Record 424 of Set 1 | kindu\n",
      "Processing Record 425 of Set 1 | baruun-urt\n",
      "Processing Record 426 of Set 1 | tervel\n",
      "Processing Record 427 of Set 1 | aksu\n",
      "Processing Record 428 of Set 1 | gra liyia\n",
      "Processing Record 429 of Set 1 | coolum beach\n",
      "Processing Record 430 of Set 1 | sao paulo de olivenca\n",
      "Processing Record 431 of Set 1 | sao jose da coroa grande\n",
      "Processing Record 432 of Set 1 | shingu\n",
      "Processing Record 433 of Set 1 | teknaf\n",
      "Processing Record 434 of Set 1 | mayo\n",
      "Processing Record 435 of Set 1 | araceli\n",
      "Processing Record 436 of Set 1 | kolomna\n",
      "Processing Record 437 of Set 1 | kushmurun\n",
      "Processing Record 438 of Set 1 | bacolod\n",
      "Processing Record 439 of Set 1 | naze\n",
      "Processing Record 440 of Set 1 | kirakira\n",
      "Processing Record 441 of Set 1 | quatre cocos\n",
      "Processing Record 442 of Set 1 | zalantun\n",
      "Processing Record 443 of Set 1 | chapais\n",
      "Processing Record 444 of Set 1 | atar\n",
      "Processing Record 445 of Set 1 | gamba\n",
      "Processing Record 446 of Set 1 | zhezkazgan\n",
      "Processing Record 447 of Set 1 | talaya\n",
      "Processing Record 448 of Set 1 | manokwari\n",
      "Processing Record 449 of Set 1 | umzimvubu\n",
      "City not found. Skipping...\n",
      "Processing Record 450 of Set 1 | ofunato\n",
      "Processing Record 451 of Set 1 | liverpool\n",
      "Processing Record 452 of Set 1 | portland\n",
      "Processing Record 453 of Set 1 | meridian\n",
      "Processing Record 454 of Set 1 | onega\n",
      "Processing Record 455 of Set 1 | tottori\n",
      "Processing Record 456 of Set 1 | poya\n",
      "Processing Record 457 of Set 1 | marsa matruh\n",
      "Processing Record 458 of Set 1 | cermik\n",
      "Processing Record 459 of Set 1 | bargal\n",
      "City not found. Skipping...\n",
      "Processing Record 460 of Set 1 | noyabrsk\n",
      "Processing Record 461 of Set 1 | vestmannaeyjar\n",
      "Processing Record 462 of Set 1 | timra\n",
      "Processing Record 463 of Set 1 | ahipara\n",
      "Processing Record 464 of Set 1 | boca do acre\n",
      "Processing Record 465 of Set 1 | king city\n",
      "Processing Record 466 of Set 1 | san juan\n",
      "Processing Record 467 of Set 1 | manica\n",
      "Processing Record 468 of Set 1 | kismayo\n",
      "Processing Record 469 of Set 1 | broome\n",
      "Processing Record 470 of Set 1 | jati\n",
      "Processing Record 471 of Set 1 | marawi\n",
      "Processing Record 472 of Set 1 | port-cartier\n",
      "Processing Record 473 of Set 1 | hofn\n",
      "Processing Record 474 of Set 1 | kolpashevo\n",
      "Processing Record 475 of Set 1 | amos\n",
      "Processing Record 476 of Set 1 | giaginskaya\n",
      "Processing Record 477 of Set 1 | nantucket\n",
      "Processing Record 478 of Set 1 | saint-pierre\n",
      "Processing Record 479 of Set 1 | palauig\n",
      "Processing Record 480 of Set 1 | ubauro\n",
      "Processing Record 481 of Set 1 | yenagoa\n",
      "Processing Record 482 of Set 1 | fairbanks\n",
      "Processing Record 483 of Set 1 | itoman\n",
      "Processing Record 484 of Set 1 | san ramon\n",
      "Processing Record 485 of Set 1 | dickinson\n",
      "Processing Record 486 of Set 1 | kavaratti\n",
      "Processing Record 487 of Set 1 | katwijk\n",
      "Processing Record 488 of Set 1 | golden\n",
      "Processing Record 489 of Set 1 | ca mau\n",
      "Processing Record 490 of Set 1 | kinston\n",
      "Processing Record 491 of Set 1 | vao\n",
      "Processing Record 492 of Set 1 | cap malheureux\n",
      "Processing Record 493 of Set 1 | rovaniemi\n",
      "Processing Record 494 of Set 1 | athabasca\n",
      "Processing Record 495 of Set 1 | rawannawi\n",
      "City not found. Skipping...\n",
      "Processing Record 496 of Set 1 | pastavy\n",
      "Processing Record 497 of Set 1 | concepcion del oro\n",
      "Processing Record 498 of Set 1 | iquitos\n",
      "Processing Record 499 of Set 1 | ambilobe\n",
      "Processing Record 500 of Set 1 | tolaga bay\n",
      "Processing Record 501 of Set 1 | bilma\n",
      "Processing Record 502 of Set 1 | palizada\n",
      "Processing Record 503 of Set 1 | wokha\n",
      "Processing Record 504 of Set 1 | tsienyane\n",
      "City not found. Skipping...\n",
      "Processing Record 505 of Set 1 | vostok\n",
      "Processing Record 506 of Set 1 | ulkan\n",
      "Processing Record 507 of Set 1 | ust-kuyga\n",
      "Processing Record 508 of Set 1 | bandarbeyla\n",
      "Processing Record 509 of Set 1 | la ronge\n",
      "Processing Record 510 of Set 1 | beisfjord\n",
      "Processing Record 511 of Set 1 | satipo\n",
      "Processing Record 512 of Set 1 | san rafael\n",
      "Processing Record 513 of Set 1 | auki\n",
      "Processing Record 514 of Set 1 | sao miguel do araguaia\n",
      "Processing Record 515 of Set 1 | cserszegtomaj\n",
      "Processing Record 516 of Set 1 | arlit\n",
      "Processing Record 517 of Set 1 | moindou\n",
      "Processing Record 518 of Set 1 | shache\n",
      "Processing Record 519 of Set 1 | half moon bay\n",
      "Processing Record 520 of Set 1 | oskemen\n",
      "Processing Record 521 of Set 1 | sovetskiy\n",
      "Processing Record 522 of Set 1 | batemans bay\n",
      "Processing Record 523 of Set 1 | salalah\n",
      "Processing Record 524 of Set 1 | richards bay\n",
      "Processing Record 525 of Set 1 | avera\n",
      "Processing Record 526 of Set 1 | saldanha\n",
      "Processing Record 527 of Set 1 | tsuruoka\n",
      "Processing Record 528 of Set 1 | toucheng\n",
      "Processing Record 529 of Set 1 | butembo\n",
      "Processing Record 530 of Set 1 | altamira\n",
      "Processing Record 531 of Set 1 | okhotsk\n",
      "Processing Record 532 of Set 1 | adrar\n",
      "Processing Record 533 of Set 1 | erenhot\n",
      "Processing Record 534 of Set 1 | semporna\n",
      "Processing Record 535 of Set 1 | pontes e lacerda\n",
      "Processing Record 536 of Set 1 | skibbereen\n",
      "Processing Record 537 of Set 1 | chicama\n",
      "Processing Record 538 of Set 1 | buraydah\n",
      "Processing Record 539 of Set 1 | burkhala\n",
      "City not found. Skipping...\n",
      "Processing Record 540 of Set 1 | laguna\n",
      "Processing Record 541 of Set 1 | masjed-e soleyman\n",
      "City not found. Skipping...\n",
      "Processing Record 542 of Set 1 | yantal\n",
      "Processing Record 543 of Set 1 | kokkola\n",
      "Processing Record 544 of Set 1 | jiujiang\n",
      "Processing Record 545 of Set 1 | iralaya\n",
      "Processing Record 546 of Set 1 | iwaki\n",
      "Processing Record 547 of Set 1 | baltay\n",
      "Processing Record 548 of Set 1 | koshki\n",
      "Processing Record 549 of Set 1 | hualmay\n",
      "Processing Record 550 of Set 1 | vilhena\n",
      "Processing Record 551 of Set 1 | pleasanton\n",
      "Processing Record 552 of Set 1 | killybegs\n",
      "Processing Record 553 of Set 1 | gizo\n",
      "Processing Record 554 of Set 1 | saint-louis\n",
      "Processing Record 555 of Set 1 | shitanjing\n",
      "Processing Record 556 of Set 1 | mackay\n"
     ]
    },
    {
     "name": "stdout",
     "output_type": "stream",
     "text": [
      "Processing Record 557 of Set 1 | skelleftea\n",
      "Processing Record 558 of Set 1 | konstantinovka\n",
      "Processing Record 559 of Set 1 | kangaatsiaq\n",
      "Processing Record 560 of Set 1 | mareeba\n",
      "Processing Record 561 of Set 1 | blacksburg\n",
      "Processing Record 562 of Set 1 | abu dhabi\n",
      "Processing Record 563 of Set 1 | pahrump\n",
      "Processing Record 564 of Set 1 | xining\n",
      "Processing Record 565 of Set 1 | moron\n",
      "Processing Record 566 of Set 1 | yerbogachen\n",
      "Processing Record 567 of Set 1 | tailai\n",
      "Processing Record 568 of Set 1 | ballina\n",
      "Processing Record 569 of Set 1 | calama\n",
      "Processing Record 570 of Set 1 | atbasar\n",
      "Processing Record 571 of Set 1 | asau\n",
      "Processing Record 572 of Set 1 | ozernovskiy\n",
      "Processing Record 573 of Set 1 | ritchie\n",
      "Processing Record 574 of Set 1 | yar-sale\n",
      "Processing Record 575 of Set 1 | soyo\n",
      "Processing Record 576 of Set 1 | jiexiu\n",
      "Processing Record 577 of Set 1 | lubango\n",
      "Processing Record 578 of Set 1 | meyungs\n",
      "City not found. Skipping...\n",
      "Processing Record 579 of Set 1 | buchanan\n",
      "Processing Record 580 of Set 1 | kaeo\n",
      "Processing Record 581 of Set 1 | srivardhan\n",
      "Processing Record 582 of Set 1 | college\n",
      "Processing Record 583 of Set 1 | high level\n",
      "Processing Record 584 of Set 1 | kennebunk\n",
      "Processing Record 585 of Set 1 | aguadilla\n",
      "Processing Record 586 of Set 1 | pekan\n",
      "Processing Record 587 of Set 1 | de aar\n",
      "Processing Record 588 of Set 1 | kibala\n",
      "Processing Record 589 of Set 1 | hami\n",
      "Processing Record 590 of Set 1 | whitehaven\n",
      "Processing Record 591 of Set 1 | myanaung\n",
      "Processing Record 592 of Set 1 | gedinne\n",
      "Processing Record 593 of Set 1 | christchurch\n",
      "Processing Record 594 of Set 1 | farmington\n",
      "Processing Record 595 of Set 1 | providencia\n",
      "Processing Record 596 of Set 1 | mnogovershinnyy\n"
     ]
    }
   ],
   "source": [
    "# Save config information.\n",
    "url = \"http://api.openweathermap.org/data/2.5/weather?\"\n",
    "units = \"imperial\"\n",
    "\n",
    "# Build partial query URL\n",
    "query_url = f\"{url}appid={weather_api_key}&units={units}&q=\"\n",
    "\n",
    "# set up lists to hold reponse info\n",
    "lat=[]\n",
    "lng=[]\n",
    "max_temp=[]\n",
    "humidity=[]\n",
    "cloudiness=[]\n",
    "wind_speed=[]\n",
    "country=[]\n",
    "date=[]\n",
    "city_counts=0\n",
    "cities_found=[]\n",
    "# Loop through the list of cities and perform a request for data on each\n",
    "for city in cities:\n",
    "    # Try to grab the weather data if the city is in the OpenWeather API\n",
    "    try:\n",
    "        city_counts+=1\n",
    "        print(f'Processing Record {city_counts} of Set 1 | {city}')        \n",
    "        response = requests.get(query_url + city).json()\n",
    "        \n",
    "        lat.append(response['coord']['lat'])\n",
    "        lng.append(response['coord']['lon'])\n",
    "        max_temp.append(response['main']['temp_max'])\n",
    "        humidity.append(response['main']['humidity'])\n",
    "        cloudiness.append(response['clouds']['all'])\n",
    "        wind_speed.append(response['wind']['speed'])\n",
    "        country.append(response['sys']['country'])\n",
    "        date.append(response['dt'])\n",
    "        cities_found.append(city)\n",
    "    # Handle exceptions for a character that is not available in the OpenWeather API\n",
    "    except:\n",
    "        print(\"City not found. Skipping...\")\n",
    "\n",
    "    "
   ]
  },
  {
   "cell_type": "markdown",
   "metadata": {},
   "source": [
    "### Convert Raw Data to DataFrame\n",
    "* Export the city data into a .csv.\n",
    "* Display the DataFrame"
   ]
  },
  {
   "cell_type": "code",
   "execution_count": 4,
   "metadata": {},
   "outputs": [
    {
     "data": {
      "text/plain": [
       "548"
      ]
     },
     "execution_count": 4,
     "metadata": {},
     "output_type": "execute_result"
    }
   ],
   "source": [
    "len(cities_found)"
   ]
  },
  {
   "cell_type": "code",
   "execution_count": 5,
   "metadata": {},
   "outputs": [
    {
     "data": {
      "text/html": [
       "<div>\n",
       "<style scoped>\n",
       "    .dataframe tbody tr th:only-of-type {\n",
       "        vertical-align: middle;\n",
       "    }\n",
       "\n",
       "    .dataframe tbody tr th {\n",
       "        vertical-align: top;\n",
       "    }\n",
       "\n",
       "    .dataframe thead th {\n",
       "        text-align: right;\n",
       "    }\n",
       "</style>\n",
       "<table border=\"1\" class=\"dataframe\">\n",
       "  <thead>\n",
       "    <tr style=\"text-align: right;\">\n",
       "      <th></th>\n",
       "      <th>City</th>\n",
       "      <th>Lat</th>\n",
       "      <th>Lng</th>\n",
       "      <th>Max Temp</th>\n",
       "      <th>Humidity</th>\n",
       "      <th>Cloudiness</th>\n",
       "      <th>Wind Speed</th>\n",
       "      <th>Country</th>\n",
       "      <th>Date</th>\n",
       "    </tr>\n",
       "  </thead>\n",
       "  <tbody>\n",
       "    <tr>\n",
       "      <th>0</th>\n",
       "      <td>albany</td>\n",
       "      <td>42.6001</td>\n",
       "      <td>-73.9662</td>\n",
       "      <td>42.01</td>\n",
       "      <td>48</td>\n",
       "      <td>40</td>\n",
       "      <td>10.36</td>\n",
       "      <td>US</td>\n",
       "      <td>1615301659</td>\n",
       "    </tr>\n",
       "    <tr>\n",
       "      <th>1</th>\n",
       "      <td>hasaki</td>\n",
       "      <td>35.7333</td>\n",
       "      <td>140.8333</td>\n",
       "      <td>44.60</td>\n",
       "      <td>93</td>\n",
       "      <td>75</td>\n",
       "      <td>4.61</td>\n",
       "      <td>JP</td>\n",
       "      <td>1615301831</td>\n",
       "    </tr>\n",
       "    <tr>\n",
       "      <th>2</th>\n",
       "      <td>tiksi</td>\n",
       "      <td>71.6872</td>\n",
       "      <td>128.8694</td>\n",
       "      <td>-19.08</td>\n",
       "      <td>88</td>\n",
       "      <td>85</td>\n",
       "      <td>7.63</td>\n",
       "      <td>RU</td>\n",
       "      <td>1615301831</td>\n",
       "    </tr>\n",
       "    <tr>\n",
       "      <th>3</th>\n",
       "      <td>petit-bourg</td>\n",
       "      <td>16.1914</td>\n",
       "      <td>-61.5916</td>\n",
       "      <td>78.80</td>\n",
       "      <td>73</td>\n",
       "      <td>75</td>\n",
       "      <td>16.11</td>\n",
       "      <td>GP</td>\n",
       "      <td>1615301831</td>\n",
       "    </tr>\n",
       "    <tr>\n",
       "      <th>4</th>\n",
       "      <td>rikitea</td>\n",
       "      <td>-23.1203</td>\n",
       "      <td>-134.9692</td>\n",
       "      <td>80.71</td>\n",
       "      <td>81</td>\n",
       "      <td>1</td>\n",
       "      <td>13.94</td>\n",
       "      <td>PF</td>\n",
       "      <td>1615301831</td>\n",
       "    </tr>\n",
       "    <tr>\n",
       "      <th>...</th>\n",
       "      <td>...</td>\n",
       "      <td>...</td>\n",
       "      <td>...</td>\n",
       "      <td>...</td>\n",
       "      <td>...</td>\n",
       "      <td>...</td>\n",
       "      <td>...</td>\n",
       "      <td>...</td>\n",
       "      <td>...</td>\n",
       "    </tr>\n",
       "    <tr>\n",
       "      <th>543</th>\n",
       "      <td>gedinne</td>\n",
       "      <td>49.9804</td>\n",
       "      <td>4.9367</td>\n",
       "      <td>46.00</td>\n",
       "      <td>93</td>\n",
       "      <td>75</td>\n",
       "      <td>6.91</td>\n",
       "      <td>BE</td>\n",
       "      <td>1615301964</td>\n",
       "    </tr>\n",
       "    <tr>\n",
       "      <th>544</th>\n",
       "      <td>christchurch</td>\n",
       "      <td>-43.5333</td>\n",
       "      <td>172.6333</td>\n",
       "      <td>60.01</td>\n",
       "      <td>94</td>\n",
       "      <td>100</td>\n",
       "      <td>2.30</td>\n",
       "      <td>NZ</td>\n",
       "      <td>1615301965</td>\n",
       "    </tr>\n",
       "    <tr>\n",
       "      <th>545</th>\n",
       "      <td>farmington</td>\n",
       "      <td>36.7281</td>\n",
       "      <td>-108.2187</td>\n",
       "      <td>41.00</td>\n",
       "      <td>48</td>\n",
       "      <td>1</td>\n",
       "      <td>10.36</td>\n",
       "      <td>US</td>\n",
       "      <td>1615301720</td>\n",
       "    </tr>\n",
       "    <tr>\n",
       "      <th>546</th>\n",
       "      <td>providencia</td>\n",
       "      <td>28.7167</td>\n",
       "      <td>-111.5833</td>\n",
       "      <td>60.80</td>\n",
       "      <td>44</td>\n",
       "      <td>90</td>\n",
       "      <td>5.97</td>\n",
       "      <td>MX</td>\n",
       "      <td>1615301965</td>\n",
       "    </tr>\n",
       "    <tr>\n",
       "      <th>547</th>\n",
       "      <td>mnogovershinnyy</td>\n",
       "      <td>53.9353</td>\n",
       "      <td>139.9242</td>\n",
       "      <td>9.23</td>\n",
       "      <td>93</td>\n",
       "      <td>100</td>\n",
       "      <td>3.89</td>\n",
       "      <td>RU</td>\n",
       "      <td>1615301965</td>\n",
       "    </tr>\n",
       "  </tbody>\n",
       "</table>\n",
       "<p>548 rows × 9 columns</p>\n",
       "</div>"
      ],
      "text/plain": [
       "                City      Lat       Lng  Max Temp  Humidity  Cloudiness  \\\n",
       "0             albany  42.6001  -73.9662     42.01        48          40   \n",
       "1             hasaki  35.7333  140.8333     44.60        93          75   \n",
       "2              tiksi  71.6872  128.8694    -19.08        88          85   \n",
       "3        petit-bourg  16.1914  -61.5916     78.80        73          75   \n",
       "4            rikitea -23.1203 -134.9692     80.71        81           1   \n",
       "..               ...      ...       ...       ...       ...         ...   \n",
       "543          gedinne  49.9804    4.9367     46.00        93          75   \n",
       "544     christchurch -43.5333  172.6333     60.01        94         100   \n",
       "545       farmington  36.7281 -108.2187     41.00        48           1   \n",
       "546      providencia  28.7167 -111.5833     60.80        44          90   \n",
       "547  mnogovershinnyy  53.9353  139.9242      9.23        93         100   \n",
       "\n",
       "     Wind Speed Country        Date  \n",
       "0         10.36      US  1615301659  \n",
       "1          4.61      JP  1615301831  \n",
       "2          7.63      RU  1615301831  \n",
       "3         16.11      GP  1615301831  \n",
       "4         13.94      PF  1615301831  \n",
       "..          ...     ...         ...  \n",
       "543        6.91      BE  1615301964  \n",
       "544        2.30      NZ  1615301965  \n",
       "545       10.36      US  1615301720  \n",
       "546        5.97      MX  1615301965  \n",
       "547        3.89      RU  1615301965  \n",
       "\n",
       "[548 rows x 9 columns]"
      ]
     },
     "execution_count": 5,
     "metadata": {},
     "output_type": "execute_result"
    }
   ],
   "source": [
    "city_data_df=pd.DataFrame({'City':cities_found,'Lat':lat,'Lng': lng,'Max Temp': max_temp,\n",
    "                           'Humidity': humidity,'Cloudiness': cloudiness,'Wind Speed': wind_speed,'Country':country, 'Date':date})\n",
    "city_data_df"
   ]
  },
  {
   "cell_type": "code",
   "execution_count": 6,
   "metadata": {},
   "outputs": [
    {
     "data": {
      "text/html": [
       "<div>\n",
       "<style scoped>\n",
       "    .dataframe tbody tr th:only-of-type {\n",
       "        vertical-align: middle;\n",
       "    }\n",
       "\n",
       "    .dataframe tbody tr th {\n",
       "        vertical-align: top;\n",
       "    }\n",
       "\n",
       "    .dataframe thead th {\n",
       "        text-align: right;\n",
       "    }\n",
       "</style>\n",
       "<table border=\"1\" class=\"dataframe\">\n",
       "  <thead>\n",
       "    <tr style=\"text-align: right;\">\n",
       "      <th></th>\n",
       "      <th>Lat</th>\n",
       "      <th>Lng</th>\n",
       "      <th>Max Temp</th>\n",
       "      <th>Humidity</th>\n",
       "      <th>Cloudiness</th>\n",
       "      <th>Wind Speed</th>\n",
       "      <th>Date</th>\n",
       "    </tr>\n",
       "  </thead>\n",
       "  <tbody>\n",
       "    <tr>\n",
       "      <th>count</th>\n",
       "      <td>548.000000</td>\n",
       "      <td>548.000000</td>\n",
       "      <td>548.000000</td>\n",
       "      <td>548.000000</td>\n",
       "      <td>548.000000</td>\n",
       "      <td>548.000000</td>\n",
       "      <td>5.480000e+02</td>\n",
       "    </tr>\n",
       "    <tr>\n",
       "      <th>mean</th>\n",
       "      <td>21.829033</td>\n",
       "      <td>18.304794</td>\n",
       "      <td>53.549088</td>\n",
       "      <td>69.485401</td>\n",
       "      <td>50.571168</td>\n",
       "      <td>8.050949</td>\n",
       "      <td>1.615302e+09</td>\n",
       "    </tr>\n",
       "    <tr>\n",
       "      <th>std</th>\n",
       "      <td>33.396665</td>\n",
       "      <td>90.746051</td>\n",
       "      <td>30.692909</td>\n",
       "      <td>22.613633</td>\n",
       "      <td>38.996185</td>\n",
       "      <td>5.354249</td>\n",
       "      <td>7.304957e+01</td>\n",
       "    </tr>\n",
       "    <tr>\n",
       "      <th>min</th>\n",
       "      <td>-54.800000</td>\n",
       "      <td>-179.166700</td>\n",
       "      <td>-35.840000</td>\n",
       "      <td>1.000000</td>\n",
       "      <td>0.000000</td>\n",
       "      <td>0.400000</td>\n",
       "      <td>1.615301e+09</td>\n",
       "    </tr>\n",
       "    <tr>\n",
       "      <th>25%</th>\n",
       "      <td>-5.416675</td>\n",
       "      <td>-61.958150</td>\n",
       "      <td>35.505000</td>\n",
       "      <td>57.000000</td>\n",
       "      <td>7.500000</td>\n",
       "      <td>3.955000</td>\n",
       "      <td>1.615302e+09</td>\n",
       "    </tr>\n",
       "    <tr>\n",
       "      <th>50%</th>\n",
       "      <td>28.265950</td>\n",
       "      <td>24.222950</td>\n",
       "      <td>60.215000</td>\n",
       "      <td>76.000000</td>\n",
       "      <td>50.000000</td>\n",
       "      <td>6.910000</td>\n",
       "      <td>1.615302e+09</td>\n",
       "    </tr>\n",
       "    <tr>\n",
       "      <th>75%</th>\n",
       "      <td>50.684075</td>\n",
       "      <td>96.396375</td>\n",
       "      <td>77.875000</td>\n",
       "      <td>87.000000</td>\n",
       "      <td>90.000000</td>\n",
       "      <td>11.180000</td>\n",
       "      <td>1.615302e+09</td>\n",
       "    </tr>\n",
       "    <tr>\n",
       "      <th>max</th>\n",
       "      <td>78.218600</td>\n",
       "      <td>179.316700</td>\n",
       "      <td>107.600000</td>\n",
       "      <td>100.000000</td>\n",
       "      <td>100.000000</td>\n",
       "      <td>32.910000</td>\n",
       "      <td>1.615302e+09</td>\n",
       "    </tr>\n",
       "  </tbody>\n",
       "</table>\n",
       "</div>"
      ],
      "text/plain": [
       "              Lat         Lng    Max Temp    Humidity  Cloudiness  Wind Speed  \\\n",
       "count  548.000000  548.000000  548.000000  548.000000  548.000000  548.000000   \n",
       "mean    21.829033   18.304794   53.549088   69.485401   50.571168    8.050949   \n",
       "std     33.396665   90.746051   30.692909   22.613633   38.996185    5.354249   \n",
       "min    -54.800000 -179.166700  -35.840000    1.000000    0.000000    0.400000   \n",
       "25%     -5.416675  -61.958150   35.505000   57.000000    7.500000    3.955000   \n",
       "50%     28.265950   24.222950   60.215000   76.000000   50.000000    6.910000   \n",
       "75%     50.684075   96.396375   77.875000   87.000000   90.000000   11.180000   \n",
       "max     78.218600  179.316700  107.600000  100.000000  100.000000   32.910000   \n",
       "\n",
       "               Date  \n",
       "count  5.480000e+02  \n",
       "mean   1.615302e+09  \n",
       "std    7.304957e+01  \n",
       "min    1.615301e+09  \n",
       "25%    1.615302e+09  \n",
       "50%    1.615302e+09  \n",
       "75%    1.615302e+09  \n",
       "max    1.615302e+09  "
      ]
     },
     "execution_count": 6,
     "metadata": {},
     "output_type": "execute_result"
    }
   ],
   "source": [
    "city_data_df.describe()"
   ]
  },
  {
   "cell_type": "markdown",
   "metadata": {},
   "source": [
    "## Inspect the data and remove the cities where the humidity > 100%.\n",
    "----\n",
    "Skip this step if there are no cities that have humidity > 100%. "
   ]
  },
  {
   "cell_type": "code",
   "execution_count": 7,
   "metadata": {},
   "outputs": [
    {
     "data": {
      "text/plain": [
       "Int64Index([], dtype='int64')"
      ]
     },
     "execution_count": 7,
     "metadata": {},
     "output_type": "execute_result"
    }
   ],
   "source": [
    "#  Get the indices of cities that have humidity over 100%.\n",
    "humidity_100plus_df=(city_data_df.loc[city_data_df['Humidity']>100,:]).copy()\n",
    "\n",
    "humidity_100plus_df.index"
   ]
  },
  {
   "cell_type": "code",
   "execution_count": 8,
   "metadata": {},
   "outputs": [
    {
     "data": {
      "text/html": [
       "<div>\n",
       "<style scoped>\n",
       "    .dataframe tbody tr th:only-of-type {\n",
       "        vertical-align: middle;\n",
       "    }\n",
       "\n",
       "    .dataframe tbody tr th {\n",
       "        vertical-align: top;\n",
       "    }\n",
       "\n",
       "    .dataframe thead th {\n",
       "        text-align: right;\n",
       "    }\n",
       "</style>\n",
       "<table border=\"1\" class=\"dataframe\">\n",
       "  <thead>\n",
       "    <tr style=\"text-align: right;\">\n",
       "      <th></th>\n",
       "      <th>City</th>\n",
       "      <th>Lat</th>\n",
       "      <th>Lng</th>\n",
       "      <th>Max Temp</th>\n",
       "      <th>Humidity</th>\n",
       "      <th>Cloudiness</th>\n",
       "      <th>Wind Speed</th>\n",
       "      <th>Country</th>\n",
       "      <th>Date</th>\n",
       "    </tr>\n",
       "  </thead>\n",
       "  <tbody>\n",
       "    <tr>\n",
       "      <th>0</th>\n",
       "      <td>albany</td>\n",
       "      <td>42.6001</td>\n",
       "      <td>-73.9662</td>\n",
       "      <td>42.01</td>\n",
       "      <td>48</td>\n",
       "      <td>40</td>\n",
       "      <td>10.36</td>\n",
       "      <td>US</td>\n",
       "      <td>1615301659</td>\n",
       "    </tr>\n",
       "    <tr>\n",
       "      <th>1</th>\n",
       "      <td>hasaki</td>\n",
       "      <td>35.7333</td>\n",
       "      <td>140.8333</td>\n",
       "      <td>44.60</td>\n",
       "      <td>93</td>\n",
       "      <td>75</td>\n",
       "      <td>4.61</td>\n",
       "      <td>JP</td>\n",
       "      <td>1615301831</td>\n",
       "    </tr>\n",
       "    <tr>\n",
       "      <th>2</th>\n",
       "      <td>tiksi</td>\n",
       "      <td>71.6872</td>\n",
       "      <td>128.8694</td>\n",
       "      <td>-19.08</td>\n",
       "      <td>88</td>\n",
       "      <td>85</td>\n",
       "      <td>7.63</td>\n",
       "      <td>RU</td>\n",
       "      <td>1615301831</td>\n",
       "    </tr>\n",
       "    <tr>\n",
       "      <th>3</th>\n",
       "      <td>petit-bourg</td>\n",
       "      <td>16.1914</td>\n",
       "      <td>-61.5916</td>\n",
       "      <td>78.80</td>\n",
       "      <td>73</td>\n",
       "      <td>75</td>\n",
       "      <td>16.11</td>\n",
       "      <td>GP</td>\n",
       "      <td>1615301831</td>\n",
       "    </tr>\n",
       "    <tr>\n",
       "      <th>4</th>\n",
       "      <td>rikitea</td>\n",
       "      <td>-23.1203</td>\n",
       "      <td>-134.9692</td>\n",
       "      <td>80.71</td>\n",
       "      <td>81</td>\n",
       "      <td>1</td>\n",
       "      <td>13.94</td>\n",
       "      <td>PF</td>\n",
       "      <td>1615301831</td>\n",
       "    </tr>\n",
       "    <tr>\n",
       "      <th>...</th>\n",
       "      <td>...</td>\n",
       "      <td>...</td>\n",
       "      <td>...</td>\n",
       "      <td>...</td>\n",
       "      <td>...</td>\n",
       "      <td>...</td>\n",
       "      <td>...</td>\n",
       "      <td>...</td>\n",
       "      <td>...</td>\n",
       "    </tr>\n",
       "    <tr>\n",
       "      <th>543</th>\n",
       "      <td>gedinne</td>\n",
       "      <td>49.9804</td>\n",
       "      <td>4.9367</td>\n",
       "      <td>46.00</td>\n",
       "      <td>93</td>\n",
       "      <td>75</td>\n",
       "      <td>6.91</td>\n",
       "      <td>BE</td>\n",
       "      <td>1615301964</td>\n",
       "    </tr>\n",
       "    <tr>\n",
       "      <th>544</th>\n",
       "      <td>christchurch</td>\n",
       "      <td>-43.5333</td>\n",
       "      <td>172.6333</td>\n",
       "      <td>60.01</td>\n",
       "      <td>94</td>\n",
       "      <td>100</td>\n",
       "      <td>2.30</td>\n",
       "      <td>NZ</td>\n",
       "      <td>1615301965</td>\n",
       "    </tr>\n",
       "    <tr>\n",
       "      <th>545</th>\n",
       "      <td>farmington</td>\n",
       "      <td>36.7281</td>\n",
       "      <td>-108.2187</td>\n",
       "      <td>41.00</td>\n",
       "      <td>48</td>\n",
       "      <td>1</td>\n",
       "      <td>10.36</td>\n",
       "      <td>US</td>\n",
       "      <td>1615301720</td>\n",
       "    </tr>\n",
       "    <tr>\n",
       "      <th>546</th>\n",
       "      <td>providencia</td>\n",
       "      <td>28.7167</td>\n",
       "      <td>-111.5833</td>\n",
       "      <td>60.80</td>\n",
       "      <td>44</td>\n",
       "      <td>90</td>\n",
       "      <td>5.97</td>\n",
       "      <td>MX</td>\n",
       "      <td>1615301965</td>\n",
       "    </tr>\n",
       "    <tr>\n",
       "      <th>547</th>\n",
       "      <td>mnogovershinnyy</td>\n",
       "      <td>53.9353</td>\n",
       "      <td>139.9242</td>\n",
       "      <td>9.23</td>\n",
       "      <td>93</td>\n",
       "      <td>100</td>\n",
       "      <td>3.89</td>\n",
       "      <td>RU</td>\n",
       "      <td>1615301965</td>\n",
       "    </tr>\n",
       "  </tbody>\n",
       "</table>\n",
       "<p>548 rows × 9 columns</p>\n",
       "</div>"
      ],
      "text/plain": [
       "                City      Lat       Lng  Max Temp  Humidity  Cloudiness  \\\n",
       "0             albany  42.6001  -73.9662     42.01        48          40   \n",
       "1             hasaki  35.7333  140.8333     44.60        93          75   \n",
       "2              tiksi  71.6872  128.8694    -19.08        88          85   \n",
       "3        petit-bourg  16.1914  -61.5916     78.80        73          75   \n",
       "4            rikitea -23.1203 -134.9692     80.71        81           1   \n",
       "..               ...      ...       ...       ...       ...         ...   \n",
       "543          gedinne  49.9804    4.9367     46.00        93          75   \n",
       "544     christchurch -43.5333  172.6333     60.01        94         100   \n",
       "545       farmington  36.7281 -108.2187     41.00        48           1   \n",
       "546      providencia  28.7167 -111.5833     60.80        44          90   \n",
       "547  mnogovershinnyy  53.9353  139.9242      9.23        93         100   \n",
       "\n",
       "     Wind Speed Country        Date  \n",
       "0         10.36      US  1615301659  \n",
       "1          4.61      JP  1615301831  \n",
       "2          7.63      RU  1615301831  \n",
       "3         16.11      GP  1615301831  \n",
       "4         13.94      PF  1615301831  \n",
       "..          ...     ...         ...  \n",
       "543        6.91      BE  1615301964  \n",
       "544        2.30      NZ  1615301965  \n",
       "545       10.36      US  1615301720  \n",
       "546        5.97      MX  1615301965  \n",
       "547        3.89      RU  1615301965  \n",
       "\n",
       "[548 rows x 9 columns]"
      ]
     },
     "execution_count": 8,
     "metadata": {},
     "output_type": "execute_result"
    }
   ],
   "source": [
    "# Make a new DataFrame equal to the city data to drop all humidity outliers by index.\n",
    "# Passing \"inplace=False\" will make a copy of the city_data DataFrame, which we call \"clean_city_data\".\n",
    "clean_city_data_df=(city_data_df.loc[city_data_df['Humidity']<=100,:]).copy()\n",
    "clean_city_data_df"
   ]
  },
  {
   "cell_type": "code",
   "execution_count": 9,
   "metadata": {},
   "outputs": [],
   "source": [
    "# output the DataFrame into csv file\n",
    "clean_city_data_df.to_csv(output_data_file,index=False,header=True)\n"
   ]
  },
  {
   "cell_type": "code",
   "execution_count": 10,
   "metadata": {},
   "outputs": [
    {
     "data": {
      "text/plain": [
       "'03/09/2021'"
      ]
     },
     "execution_count": 10,
     "metadata": {},
     "output_type": "execute_result"
    }
   ],
   "source": [
    "from datetime import datetime\n",
    "#change the timestamp to month/date/year format\n",
    "timestamp = clean_city_data_df['Date'].max()\n",
    "dt_object = datetime.fromtimestamp(timestamp).strftime('%m/%d/%Y')\n",
    "dt_object"
   ]
  },
  {
   "cell_type": "markdown",
   "metadata": {},
   "source": [
    "## Plotting the Data\n",
    "* Use proper labeling of the plots using plot titles (including date of analysis) and axes labels.\n",
    "* Save the plotted figures as .pngs."
   ]
  },
  {
   "cell_type": "markdown",
   "metadata": {},
   "source": [
    "## Latitude vs. Temperature Plot"
   ]
  },
  {
   "cell_type": "code",
   "execution_count": 11,
   "metadata": {
    "scrolled": true
   },
   "outputs": [
    {
     "data": {
      "image/png": "[encoded data removed]",
      "text/plain": [
       "<Figure size 432x288 with 1 Axes>"
      ]
     },
     "metadata": {
      "needs_background": "light"
     },
     "output_type": "display_data"
    }
   ],
   "source": [
    "# gather the value and generate the scatter plot\n",
    "x_values = clean_city_data_df['Lat']\n",
    "y_values = clean_city_data_df['Max Temp']\n",
    "plt.scatter(x_values,y_values,marker=\"o\", facecolors=\"blue\", edgecolors=\"black\")\n",
    "plt.xlabel('Latitude')\n",
    "plt.ylabel('Max Temperature (F)')\n",
    "plt.title(f'City Latitude vs. Max Temperature on {dt_object}')\n",
    "plt.grid()\n",
    "plt.savefig(\"../Images/City Latitude vs. Max Temperature.png\")\n",
    "plt.show()"
   ]
  },
  {
   "cell_type": "markdown",
   "metadata": {},
   "source": [
    "**Conclusion**: Maximum temperature is higher around equator and southern latitude in March, the maximum temperature reduces when the latitude increases in the northen hemisphere."
   ]
  },
  {
   "cell_type": "markdown",
   "metadata": {},
   "source": [
    "## Latitude vs. Humidity Plot"
   ]
  },
  {
   "cell_type": "code",
   "execution_count": 12,
   "metadata": {},
   "outputs": [
    {
     "data": {
      "image/png": "[encoded data removed]",
      "text/plain": [
       "<Figure size 432x288 with 1 Axes>"
      ]
     },
     "metadata": {
      "needs_background": "light"
     },
     "output_type": "display_data"
    }
   ],
   "source": [
    "# gather the value and generate the scatter plot\n",
    "x_values = clean_city_data_df['Lat']\n",
    "y_values = clean_city_data_df['Humidity']\n",
    "plt.scatter(x_values,y_values,marker=\"o\", facecolors=\"blue\", edgecolors=\"black\")\n",
    "plt.xlabel('Latitude')\n",
    "plt.ylabel('Humidity (%)')\n",
    "plt.title(f'City Latitude vs. Humidity on {dt_object}')\n",
    "plt.grid()\n",
    "plt.savefig(\"../Images/City Latitude vs. Humidity.png\")\n",
    "plt.show()"
   ]
  },
  {
   "cell_type": "markdown",
   "metadata": {},
   "source": [
    "**Conclusion**: Most the cities in the study have Humidity above 60% on the day of study. Human tend to live in higher humidy areas than places with dry air."
   ]
  },
  {
   "cell_type": "markdown",
   "metadata": {},
   "source": [
    "## Latitude vs. Cloudiness Plot"
   ]
  },
  {
   "cell_type": "code",
   "execution_count": 13,
   "metadata": {},
   "outputs": [
    {
     "data": {
      "image/png": "[encoded data removed]",
      "text/plain": [
       "<Figure size 432x288 with 1 Axes>"
      ]
     },
     "metadata": {
      "needs_background": "light"
     },
     "output_type": "display_data"
    }
   ],
   "source": [
    "# gather the value and generate the scatter plot\n",
    "x_values = clean_city_data_df['Lat']\n",
    "y_values = clean_city_data_df['Cloudiness']\n",
    "plt.scatter(x_values,y_values,marker=\"o\", facecolors=\"blue\", edgecolors=\"black\")\n",
    "plt.xlabel('Latitude')\n",
    "plt.ylabel('Cloudiness (%)')\n",
    "plt.title(f'City Latitude vs. Cloudiness on {dt_object}')\n",
    "plt.grid()\n",
    "plt.savefig(\"../Images/City Latitude vs. Cloudiness.png\")\n",
    "plt.show()"
   ]
  },
  {
   "cell_type": "markdown",
   "metadata": {},
   "source": [
    "**Conclusion**: The cloudiness (%) data points concentrated on 0%, 20%, 40%, 80% and 100%; which could be a sysmetic measurement error. Otherwise, the cloudiness (%) data seem to evenly distributed around the cities in the study on the date of study regardless of the latitude. "
   ]
  },
  {
   "cell_type": "markdown",
   "metadata": {},
   "source": [
    "## Latitude vs. Wind Speed Plot"
   ]
  },
  {
   "cell_type": "code",
   "execution_count": 14,
   "metadata": {},
   "outputs": [
    {
     "data": {
      "image/png": "[encoded data removed]",
      "text/plain": [
       "<Figure size 432x288 with 1 Axes>"
      ]
     },
     "metadata": {
      "needs_background": "light"
     },
     "output_type": "display_data"
    }
   ],
   "source": [
    "# gather the value and generate the scatter plot\n",
    "x_values = clean_city_data_df['Lat']\n",
    "y_values = clean_city_data_df['Wind Speed']\n",
    "plt.scatter(x_values,y_values,marker=\"o\", facecolors=\"blue\", edgecolors=\"black\")\n",
    "plt.xlabel('Latitude')\n",
    "plt.ylabel('Wind Speed (mph)')\n",
    "plt.title(f'City Latitude vs. Wind Speed on {dt_object}')\n",
    "plt.grid()\n",
    "plt.savefig(\"../Images/City Latitude vs. Wind Speed.png\")\n",
    "plt.show()"
   ]
  },
  {
   "cell_type": "markdown",
   "metadata": {},
   "source": [
    "**Conclusion**: The wind speed (mph) data points concentrated on lower half of the graph; which indicated that the wind is not strong around the cities in the study on the date of study regardless of the latitude. Definitely no tornadoes, hurricane or typhoon."
   ]
  },
  {
   "cell_type": "markdown",
   "metadata": {},
   "source": [
    "## Linear Regression"
   ]
  },
  {
   "cell_type": "code",
   "execution_count": 15,
   "metadata": {},
   "outputs": [],
   "source": [
    "# create the dataframe for northen hemisphere and southern hemisphere\n",
    "north_df=clean_city_data_df.loc[clean_city_data_df['Lat']>=0,['Lat','Max Temp','Humidity','Cloudiness','Wind Speed']].copy()\n",
    "south_df=clean_city_data_df.loc[clean_city_data_df['Lat']<0,['Lat','Max Temp','Humidity','Cloudiness','Wind Speed']].copy()\n",
    "\n",
    "def weather_regression (x_values, y_values,y_label,plt_title, x,y):\n",
    "    (slope, intercept, rvalue, pvalue, stderr) = linregress(x_values, y_values)\n",
    "    regress_values = x_values * slope + intercept\n",
    "    line_eq = \"y = \" + str(round(slope,2)) + \"x + \" + str(round(intercept,2))\n",
    "    plt.scatter(x_values,y_values)\n",
    "    plt.plot(x_values,regress_values,\"r-\")\n",
    "    plt.annotate(line_eq,(x,y),fontsize=15,color=\"red\")\n",
    "    print(f\"The r-squared is: {rvalue**2:.4f}\")\n",
    "    plt.xlabel(\"Latitude\")\n",
    "    plt.ylabel(y_label)\n",
    "    plt.title(plt_title)\n",
    "    plt.show()"
   ]
  },
  {
   "cell_type": "markdown",
   "metadata": {},
   "source": [
    "####  Northern Hemisphere - Max Temp vs. Latitude Linear Regression"
   ]
  },
  {
   "cell_type": "code",
   "execution_count": 16,
   "metadata": {},
   "outputs": [
    {
     "name": "stdout",
     "output_type": "stream",
     "text": [
      "The r-squared is: 0.7992\n"
     ]
    },
    {
     "data": {
      "image/png": "[encoded data removed]",
      "text/plain": [
       "<Figure size 432x288 with 1 Axes>"
      ]
     },
     "metadata": {
      "needs_background": "light"
     },
     "output_type": "display_data"
    }
   ],
   "source": [
    "# calling weather_regression function to plot and add linear regression\n",
    "weather_regression(north_df['Lat'],north_df['Max Temp'],'Max Temperature (F)',\n",
    "                   \"Northern Hemisphere - Max Temp vs. Latitude\",40,90)"
   ]
  },
  {
   "cell_type": "markdown",
   "metadata": {},
   "source": [
    "**Conclusion**: r value is indicating there is a strong linear relationship between the maximum temperature and latitude in the southern hemisphere. The max temp increases when the latitude approaches the equator."
   ]
  },
  {
   "cell_type": "markdown",
   "metadata": {},
   "source": [
    "####  Southern Hemisphere - Max Temp vs. Latitude Linear Regression"
   ]
  },
  {
   "cell_type": "code",
   "execution_count": 17,
   "metadata": {},
   "outputs": [
    {
     "name": "stdout",
     "output_type": "stream",
     "text": [
      "The r-squared is: 0.3994\n"
     ]
    },
    {
     "data": {
      "image/png": "[encoded data removed]",
      "text/plain": [
       "<Figure size 432x288 with 1 Axes>"
      ]
     },
     "metadata": {
      "needs_background": "light"
     },
     "output_type": "display_data"
    }
   ],
   "source": [
    "# calling weather_regression function to plot and add linear regression\n",
    "weather_regression(south_df['Lat'],south_df['Max Temp'],\"Max Temperature (F)\",\n",
    "                   \"Southern Hemisphere - Max Temp vs. Latitude\",-55,90)"
   ]
  },
  {
   "cell_type": "markdown",
   "metadata": {},
   "source": [
    "**Conclusion**: r value is small. The max temp increases when the latitude approaches the equator. The linear relationship between the maximum temperature and latitude in the southern hemisphere is not strong. "
   ]
  },
  {
   "cell_type": "markdown",
   "metadata": {},
   "source": [
    "####  Northern Hemisphere - Humidity (%) vs. Latitude Linear Regression"
   ]
  },
  {
   "cell_type": "code",
   "execution_count": 18,
   "metadata": {},
   "outputs": [
    {
     "name": "stdout",
     "output_type": "stream",
     "text": [
      "The r-squared is: 0.1651\n"
     ]
    },
    {
     "data": {
      "image/png": "[encoded data removed]",
      "text/plain": [
       "<Figure size 432x288 with 1 Axes>"
      ]
     },
     "metadata": {
      "needs_background": "light"
     },
     "output_type": "display_data"
    }
   ],
   "source": [
    "# calling weather_regression function to plot and add linear regression\n",
    "weather_regression(north_df['Lat'],north_df['Humidity'],\"Humidity (%)\",\n",
    "                   \"Northern Hemisphere - Humidity (%) vs. Latitude\",40,10)"
   ]
  },
  {
   "cell_type": "markdown",
   "metadata": {},
   "source": [
    "**Conclusion**: r value is very small. There is no linear relationship between the humidity (%) and latitude in the northern hemisphere. "
   ]
  },
  {
   "cell_type": "markdown",
   "metadata": {},
   "source": [
    "####  Southern Hemisphere - Humidity (%) vs. Latitude Linear Regression"
   ]
  },
  {
   "cell_type": "code",
   "execution_count": 19,
   "metadata": {},
   "outputs": [
    {
     "name": "stdout",
     "output_type": "stream",
     "text": [
      "The r-squared is: 0.0332\n"
     ]
    },
    {
     "data": {
      "image/png": "[encoded data removed]",
      "text/plain": [
       "<Figure size 432x288 with 1 Axes>"
      ]
     },
     "metadata": {
      "needs_background": "light"
     },
     "output_type": "display_data"
    }
   ],
   "source": [
    "# calling weather_regression function to plot and add linear regression\n",
    "weather_regression(south_df['Lat'],south_df['Humidity'],\"Humidity (%)\",\n",
    "                   \"Southern Hemisphere - Humidity (%) vs. Latitude\",-50,20)"
   ]
  },
  {
   "cell_type": "markdown",
   "metadata": {},
   "source": [
    "**Conclusion**: r value is very small. There is no linear relationship between the humidity (%) and latitude in the southern hemisphere. "
   ]
  },
  {
   "cell_type": "markdown",
   "metadata": {},
   "source": [
    "####  Northern Hemisphere - Cloudiness (%) vs. Latitude Linear Regression"
   ]
  },
  {
   "cell_type": "code",
   "execution_count": 20,
   "metadata": {},
   "outputs": [
    {
     "name": "stdout",
     "output_type": "stream",
     "text": [
      "The r-squared is: 0.0549\n"
     ]
    },
    {
     "data": {
      "image/png": "[encoded data removed]",
      "text/plain": [
       "<Figure size 432x288 with 1 Axes>"
      ]
     },
     "metadata": {
      "needs_background": "light"
     },
     "output_type": "display_data"
    }
   ],
   "source": [
    "# calling weather_regression function to plot and add linear regression\n",
    "weather_regression(north_df['Lat'],north_df['Cloudiness'],\"Cloudiness (%)\",\n",
    "                   \"Northern Hemisphere - Cloudiness (%) vs. Latitude\",40,10)"
   ]
  },
  {
   "cell_type": "markdown",
   "metadata": {},
   "source": [
    "**Conclusion**: r value is close to zero. There is no linear relationship between the cloudiness (%) and latitude in the northern hemisphere. "
   ]
  },
  {
   "cell_type": "markdown",
   "metadata": {},
   "source": [
    "####  Southern Hemisphere - Cloudiness (%) vs. Latitude Linear Regression"
   ]
  },
  {
   "cell_type": "code",
   "execution_count": 21,
   "metadata": {},
   "outputs": [
    {
     "name": "stdout",
     "output_type": "stream",
     "text": [
      "The r-squared is: 0.0002\n"
     ]
    },
    {
     "data": {
      "image/png": "[encoded data removed]",
      "text/plain": [
       "<Figure size 432x288 with 1 Axes>"
      ]
     },
     "metadata": {
      "needs_background": "light"
     },
     "output_type": "display_data"
    }
   ],
   "source": [
    "# calling weather_regression function to plot and add linear regression\n",
    "weather_regression(south_df['Lat'],south_df['Cloudiness'],\"Cloudiness (%)\",\n",
    "                   \"Southern Hemisphere - Cloudiness (%) vs. Latitude\",-55,10)"
   ]
  },
  {
   "cell_type": "markdown",
   "metadata": {},
   "source": [
    "**Conclusion**: r value is close to zero. There is no linear relationship between the cloudiness(%) and latitude in the southern hemisphere. "
   ]
  },
  {
   "cell_type": "markdown",
   "metadata": {},
   "source": [
    "####  Northern Hemisphere - Wind Speed (mph) vs. Latitude Linear Regression"
   ]
  },
  {
   "cell_type": "code",
   "execution_count": 22,
   "metadata": {},
   "outputs": [
    {
     "name": "stdout",
     "output_type": "stream",
     "text": [
      "The r-squared is: 0.0026\n"
     ]
    },
    {
     "data": {
      "image/png": "[encoded data removed]",
      "text/plain": [
       "<Figure size 432x288 with 1 Axes>"
      ]
     },
     "metadata": {
      "needs_background": "light"
     },
     "output_type": "display_data"
    }
   ],
   "source": [
    "# calling weather_regression function to plot and add linear regression\n",
    "weather_regression(north_df['Lat'],north_df['Wind Speed'],\"Wind Speed (mph)\",\n",
    "                   \"Northern Hemisphere - Wind Speed (mph) vs. Latitude\",30,25)"
   ]
  },
  {
   "cell_type": "markdown",
   "metadata": {},
   "source": [
    "**Conclusion**: r value is close to zero. There is no linear relationship between the wind speed (mph) and latitude in the northern hemisphere. "
   ]
  },
  {
   "cell_type": "markdown",
   "metadata": {},
   "source": [
    "####  Southern Hemisphere - Wind Speed (mph) vs. Latitude Linear Regression"
   ]
  },
  {
   "cell_type": "code",
   "execution_count": 23,
   "metadata": {},
   "outputs": [
    {
     "name": "stdout",
     "output_type": "stream",
     "text": [
      "The r-squared is: 0.0416\n"
     ]
    },
    {
     "data": {
      "image/png": "[encoded data removed]",
      "text/plain": [
       "<Figure size 432x288 with 1 Axes>"
      ]
     },
     "metadata": {
      "needs_background": "light"
     },
     "output_type": "display_data"
    }
   ],
   "source": [
    "# calling weather_regression function to plot and add linear regression\n",
    "weather_regression(south_df['Lat'],south_df['Wind Speed'],\"Wind Speed (mph)\",\n",
    "                   \"Southern Hemisphere - Wind Speed (mph) vs. Latitude\",-50,25)"
   ]
  },
  {
   "cell_type": "markdown",
   "metadata": {},
   "source": [
    "**Conclusion**: r value is close to zero. There is no linear relationship between the wind speed (mph) and latitude in the southern hemisphere. "
   ]
  }
 ],
 "metadata": {
  "anaconda-cloud": {},
  "kernel_info": {
   "name": "python3"
  },
  "kernelspec": {
   "display_name": "Python 3",
   "language": "python",
   "name": "python3"
  },
  "language_info": {
   "codemirror_mode": {
    "name": "ipython",
    "version": 3
   },
   "file_extension": ".py",
   "mimetype": "text/x-python",
   "name": "python",
   "nbconvert_exporter": "python",
   "pygments_lexer": "ipython3",
   "version": "3.8.5"
  },
  "latex_envs": {
   "LaTeX_envs_menu_present": true,
   "autoclose": false,
   "autocomplete": true,
   "bibliofile": "biblio.bib",
   "cite_by": "apalike",
   "current_citInitial": 1,
   "eqLabelWithNumbers": true,
   "eqNumInitial": 1,
   "hotkeys": {
    "equation": "Ctrl-E",
    "itemize": "Ctrl-I"
   },
   "labels_anchors": false,
   "latex_user_defs": false,
   "report_style_numbering": false,
   "user_envs_cfg": false
  },
  "nteract": {
   "version": "0.12.3"
  }
 },
 "nbformat": 4,
 "nbformat_minor": 4
}
