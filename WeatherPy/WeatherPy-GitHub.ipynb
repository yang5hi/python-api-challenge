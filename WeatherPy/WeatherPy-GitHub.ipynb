{
 "cells": [
  {
   "cell_type": "markdown",
   "metadata": {},
   "source": [
    "# WeatherPy"
   ]
  },
  {
   "cell_type": "code",
   "execution_count": 1,
   "metadata": {},
   "outputs": [
    {
     "data": {
      "text/plain": [
       "'8f23ea6936e4f58283425f4c3e550756'"
      ]
     },
     "execution_count": 1,
     "metadata": {},
     "output_type": "execute_result"
    }
   ],
   "source": [
    "# Dependencies and Setup\n",
    "import matplotlib.pyplot as plt\n",
    "import pandas as pd\n",
    "import numpy as np\n",
    "import requests\n",
    "import json\n",
    "import time\n",
    "from scipy.stats import linregress\n",
    "from pprint import pprint\n",
    "\n",
    "# Incorporated citipy to determine city based on latitude and longitude\n",
    "from citipy import citipy\n",
    "\n",
    "# Output File (CSV)\n",
    "output_data_file = \"../output_data/cities_YS.csv\"\n",
    "\n",
    "# Range of latitudes and longitudes\n",
    "lat_range = (-90, 90)\n",
    "lng_range = (-180, 180)\n",
    "\n",
    "# Import API key from parent folder\n",
    "import sys\n",
    "sys.path.insert(0, '..')\n",
    "from api_keys import weather_api_key"
   ]
  },
  {
   "cell_type": "markdown",
   "metadata": {},
   "source": [
    "## Generate Cities List"
   ]
  },
  {
   "cell_type": "code",
   "execution_count": 2,
   "metadata": {},
   "outputs": [
    {
     "data": {
      "text/plain": [
       "596"
      ]
     },
     "execution_count": 2,
     "metadata": {},
     "output_type": "execute_result"
    }
   ],
   "source": [
    "# List for holding lat_lngs and cities\n",
    "lat_lngs = []\n",
    "cities = []\n",
    "\n",
    "# Create a set of random lat and lng combinations\n",
    "lats = np.random.uniform(lat_range[0], lat_range[1], size=1500)\n",
    "lngs = np.random.uniform(lng_range[0], lng_range[1], size=1500)\n",
    "lat_lngs = zip(lats, lngs)\n",
    "\n",
    "# Identify nearest city for each lat, lng combination\n",
    "for lat_lng in lat_lngs:\n",
    "    city = citipy.nearest_city(lat_lng[0], lat_lng[1]).city_name\n",
    "    \n",
    "    # If the city is unique, then add it to a our cities list\n",
    "    if city not in cities:\n",
    "        cities.append(city)\n",
    "\n",
    "# Print the city count to confirm sufficient count\n",
    "len(cities)"
   ]
  },
  {
   "cell_type": "markdown",
   "metadata": {},
   "source": [
    "### Perform API Calls\n",
    "* Perform a weather check on each city using a series of successive API calls.\n",
    "* Include a print log of each city as it'sbeing processed (with the city number and city name).\n"
   ]
  },
  {
   "cell_type": "code",
   "execution_count": 3,
   "metadata": {
    "scrolled": true
   },
   "outputs": [
    {
     "name": "stdout",
     "output_type": "stream",
     "text": [
      "Processing Record 1 of Set 1 | ushuaia\n",
      "Processing Record 2 of Set 1 | ostrovnoy\n",
      "Processing Record 3 of Set 1 | severo-kurilsk\n",
      "Processing Record 4 of Set 1 | warrnambool\n",
      "Processing Record 5 of Set 1 | saryozek\n",
      "Processing Record 6 of Set 1 | taolanaro\n",
      "City not found. Skipping...\n",
      "Processing Record 7 of Set 1 | sokoni\n",
      "Processing Record 8 of Set 1 | avarua\n",
      "Processing Record 9 of Set 1 | caravelas\n",
      "Processing Record 10 of Set 1 | ilulissat\n",
      "Processing Record 11 of Set 1 | chuy\n",
      "Processing Record 12 of Set 1 | ucluelet\n",
      "Processing Record 13 of Set 1 | punta arenas\n",
      "Processing Record 14 of Set 1 | mys shmidta\n",
      "City not found. Skipping...\n",
      "Processing Record 15 of Set 1 | atuona\n",
      "Processing Record 16 of Set 1 | makakilo city\n",
      "Processing Record 17 of Set 1 | doctor juan leon mallorquin\n",
      "Processing Record 18 of Set 1 | portland\n",
      "Processing Record 19 of Set 1 | saint george\n",
      "Processing Record 20 of Set 1 | kapaa\n",
      "Processing Record 21 of Set 1 | rikitea\n",
      "Processing Record 22 of Set 1 | toliary\n",
      "City not found. Skipping...\n",
      "Processing Record 23 of Set 1 | sadao\n",
      "Processing Record 24 of Set 1 | khatanga\n",
      "Processing Record 25 of Set 1 | tuatapere\n",
      "Processing Record 26 of Set 1 | chapais\n",
      "Processing Record 27 of Set 1 | somerville\n",
      "Processing Record 28 of Set 1 | hobyo\n",
      "Processing Record 29 of Set 1 | umea\n",
      "Processing Record 30 of Set 1 | shashi\n",
      "Processing Record 31 of Set 1 | anapskaya\n",
      "Processing Record 32 of Set 1 | provideniya\n",
      "Processing Record 33 of Set 1 | mersing\n",
      "Processing Record 34 of Set 1 | saldanha\n",
      "Processing Record 35 of Set 1 | saint-philippe\n",
      "Processing Record 36 of Set 1 | bethel\n",
      "Processing Record 37 of Set 1 | hobart\n",
      "Processing Record 38 of Set 1 | port alfred\n",
      "Processing Record 39 of Set 1 | narsaq\n",
      "Processing Record 40 of Set 1 | hermanus\n",
      "Processing Record 41 of Set 1 | pangnirtung\n",
      "Processing Record 42 of Set 1 | haibowan\n",
      "City not found. Skipping...\n",
      "Processing Record 43 of Set 1 | saint-pierre\n",
      "Processing Record 44 of Set 1 | bluff\n",
      "Processing Record 45 of Set 1 | mahebourg\n",
      "Processing Record 46 of Set 1 | vestmannaeyjar\n",
      "Processing Record 47 of Set 1 | thompson\n",
      "Processing Record 48 of Set 1 | shingu\n",
      "Processing Record 49 of Set 1 | illoqqortoormiut\n",
      "City not found. Skipping...\n",
      "Processing Record 50 of Set 1 | peniche\n",
      "Processing Record 51 of Set 1 | savannah bight\n",
      "Processing Record 52 of Set 1 | aklavik\n",
      "Processing Record 53 of Set 1 | dikson\n",
      "Processing Record 54 of Set 1 | vanimo\n",
      "Processing Record 55 of Set 1 | jamestown\n",
      "Processing Record 56 of Set 1 | cape town\n",
      "Processing Record 57 of Set 1 | sao filipe\n",
      "Processing Record 58 of Set 1 | castro\n",
      "Processing Record 59 of Set 1 | cabo san lucas\n",
      "Processing Record 60 of Set 1 | hithadhoo\n",
      "Processing Record 61 of Set 1 | souillac\n",
      "Processing Record 62 of Set 1 | salalah\n",
      "Processing Record 63 of Set 1 | bozhou\n",
      "Processing Record 64 of Set 1 | barrow\n",
      "Processing Record 65 of Set 1 | jamsa\n",
      "Processing Record 66 of Set 1 | lerum\n",
      "Processing Record 67 of Set 1 | norman wells\n",
      "Processing Record 68 of Set 1 | hilo\n",
      "Processing Record 69 of Set 1 | namibe\n",
      "Processing Record 70 of Set 1 | albany\n",
      "Processing Record 71 of Set 1 | usinsk\n",
      "Processing Record 72 of Set 1 | alofi\n",
      "Processing Record 73 of Set 1 | san-pedro\n",
      "Processing Record 74 of Set 1 | maun\n",
      "Processing Record 75 of Set 1 | amot\n",
      "Processing Record 76 of Set 1 | gao\n",
      "Processing Record 77 of Set 1 | attawapiskat\n",
      "City not found. Skipping...\n",
      "Processing Record 78 of Set 1 | hazorasp\n",
      "Processing Record 79 of Set 1 | ixtapa\n",
      "Processing Record 80 of Set 1 | camacha\n",
      "Processing Record 81 of Set 1 | champasak\n",
      "Processing Record 82 of Set 1 | georgetown\n",
      "Processing Record 83 of Set 1 | kibala\n",
      "Processing Record 84 of Set 1 | lavrentiya\n",
      "Processing Record 85 of Set 1 | farah\n",
      "Processing Record 86 of Set 1 | antofagasta\n",
      "Processing Record 87 of Set 1 | busselton\n",
      "Processing Record 88 of Set 1 | hasaki\n",
      "Processing Record 89 of Set 1 | kodiak\n",
      "Processing Record 90 of Set 1 | sao joao nepomuceno\n",
      "Processing Record 91 of Set 1 | atar\n",
      "Processing Record 92 of Set 1 | varhaug\n",
      "Processing Record 93 of Set 1 | puerto ayora\n",
      "Processing Record 94 of Set 1 | palana\n",
      "Processing Record 95 of Set 1 | sentyabrskiy\n",
      "City not found. Skipping...\n",
      "Processing Record 96 of Set 1 | faya\n",
      "Processing Record 97 of Set 1 | rungata\n",
      "City not found. Skipping...\n",
      "Processing Record 98 of Set 1 | katsuura\n",
      "Processing Record 99 of Set 1 | kahului\n",
      "Processing Record 100 of Set 1 | churapcha\n",
      "Processing Record 101 of Set 1 | cidreira\n",
      "Processing Record 102 of Set 1 | sao joao da barra\n",
      "Processing Record 103 of Set 1 | vaini\n",
      "Processing Record 104 of Set 1 | tuktoyaktuk\n",
      "Processing Record 105 of Set 1 | buzmeyin\n",
      "Processing Record 106 of Set 1 | bredasdorp\n",
      "Processing Record 107 of Set 1 | reefton\n",
      "City not found. Skipping...\n",
      "Processing Record 108 of Set 1 | codrington\n",
      "Processing Record 109 of Set 1 | mataura\n",
      "Processing Record 110 of Set 1 | solnechnyy\n",
      "Processing Record 111 of Set 1 | tarakan\n",
      "Processing Record 112 of Set 1 | eydhafushi\n",
      "Processing Record 113 of Set 1 | constitucion\n",
      "Processing Record 114 of Set 1 | nizhneyansk\n",
      "City not found. Skipping...\n",
      "Processing Record 115 of Set 1 | volkhov\n",
      "Processing Record 116 of Set 1 | east london\n",
      "Processing Record 117 of Set 1 | tasiilaq\n",
      "Processing Record 118 of Set 1 | half moon bay\n",
      "Processing Record 119 of Set 1 | pangai\n",
      "Processing Record 120 of Set 1 | luebo\n",
      "Processing Record 121 of Set 1 | shiraz\n",
      "Processing Record 122 of Set 1 | broken hill\n",
      "Processing Record 123 of Set 1 | feltre\n",
      "Processing Record 124 of Set 1 | belushya guba\n",
      "City not found. Skipping...\n",
      "Processing Record 125 of Set 1 | upernavik\n",
      "Processing Record 126 of Set 1 | marcona\n",
      "City not found. Skipping...\n",
      "Processing Record 127 of Set 1 | cockburn town\n",
      "Processing Record 128 of Set 1 | kampene\n",
      "Processing Record 129 of Set 1 | mahibadhoo\n",
      "Processing Record 130 of Set 1 | ayan\n",
      "Processing Record 131 of Set 1 | lorengau\n",
      "Processing Record 132 of Set 1 | whyalla\n",
      "Processing Record 133 of Set 1 | morant bay\n",
      "Processing Record 134 of Set 1 | tura\n",
      "Processing Record 135 of Set 1 | manavalakurichi\n",
      "Processing Record 136 of Set 1 | rio gallegos\n",
      "Processing Record 137 of Set 1 | cam ranh\n",
      "Processing Record 138 of Set 1 | nikolskoye\n",
      "Processing Record 139 of Set 1 | shar\n",
      "Processing Record 140 of Set 1 | tiksi\n",
      "Processing Record 141 of Set 1 | lagoa\n",
      "Processing Record 142 of Set 1 | mar del plata\n",
      "Processing Record 143 of Set 1 | kaitangata\n",
      "Processing Record 144 of Set 1 | ostersund\n",
      "Processing Record 145 of Set 1 | adrar\n",
      "Processing Record 146 of Set 1 | redcliffe\n",
      "Processing Record 147 of Set 1 | barentsburg\n",
      "City not found. Skipping...\n",
      "Processing Record 148 of Set 1 | itarema\n",
      "Processing Record 149 of Set 1 | damietta\n",
      "Processing Record 150 of Set 1 | flinders\n",
      "Processing Record 151 of Set 1 | tomatlan\n",
      "Processing Record 152 of Set 1 | airai\n",
      "Processing Record 153 of Set 1 | laguna\n",
      "Processing Record 154 of Set 1 | ulladulla\n",
      "Processing Record 155 of Set 1 | sarakhs\n",
      "Processing Record 156 of Set 1 | luderitz\n",
      "Processing Record 157 of Set 1 | uige\n",
      "Processing Record 158 of Set 1 | kalianget\n",
      "Processing Record 159 of Set 1 | ribnitz-damgarten\n",
      "Processing Record 160 of Set 1 | mayor pablo lagerenza\n",
      "Processing Record 161 of Set 1 | san quintin\n",
      "Processing Record 162 of Set 1 | arraial do cabo\n",
      "Processing Record 163 of Set 1 | karratha\n",
      "Processing Record 164 of Set 1 | clyde river\n",
      "Processing Record 165 of Set 1 | bodaybo\n",
      "Processing Record 166 of Set 1 | ponta do sol\n",
      "Processing Record 167 of Set 1 | north platte\n",
      "Processing Record 168 of Set 1 | campo grande\n",
      "Processing Record 169 of Set 1 | nanortalik\n",
      "Processing Record 170 of Set 1 | kurilsk\n",
      "Processing Record 171 of Set 1 | margate\n",
      "Processing Record 172 of Set 1 | kuching\n",
      "Processing Record 173 of Set 1 | fortuna\n",
      "Processing Record 174 of Set 1 | xining\n",
      "Processing Record 175 of Set 1 | san cristobal\n",
      "Processing Record 176 of Set 1 | boa vista\n",
      "Processing Record 177 of Set 1 | bulungu\n",
      "Processing Record 178 of Set 1 | hongjiang\n",
      "Processing Record 179 of Set 1 | bubaque\n",
      "Processing Record 180 of Set 1 | haines junction\n",
      "Processing Record 181 of Set 1 | southbridge\n",
      "Processing Record 182 of Set 1 | mumbwa\n",
      "Processing Record 183 of Set 1 | tubruq\n",
      "City not found. Skipping...\n",
      "Processing Record 184 of Set 1 | guerrero negro\n",
      "Processing Record 185 of Set 1 | hay river\n",
      "Processing Record 186 of Set 1 | flin flon\n"
     ]
    },
    {
     "name": "stdout",
     "output_type": "stream",
     "text": [
      "Processing Record 187 of Set 1 | coquimbo\n",
      "Processing Record 188 of Set 1 | muros\n",
      "Processing Record 189 of Set 1 | andenes\n",
      "Processing Record 190 of Set 1 | palmer\n",
      "Processing Record 191 of Set 1 | komsomolskiy\n",
      "Processing Record 192 of Set 1 | tutrakan\n",
      "Processing Record 193 of Set 1 | gimli\n",
      "Processing Record 194 of Set 1 | chokwe\n",
      "Processing Record 195 of Set 1 | port shepstone\n",
      "Processing Record 196 of Set 1 | viedma\n",
      "Processing Record 197 of Set 1 | saint-denis\n",
      "Processing Record 198 of Set 1 | ketchikan\n",
      "Processing Record 199 of Set 1 | esperance\n",
      "Processing Record 200 of Set 1 | darhan\n",
      "Processing Record 201 of Set 1 | fomboni\n",
      "Processing Record 202 of Set 1 | sirajganj\n",
      "Processing Record 203 of Set 1 | hoshcha\n",
      "Processing Record 204 of Set 1 | maragogi\n",
      "Processing Record 205 of Set 1 | vila franca do campo\n",
      "Processing Record 206 of Set 1 | vardo\n",
      "Processing Record 207 of Set 1 | windhoek\n",
      "Processing Record 208 of Set 1 | kaura namoda\n",
      "Processing Record 209 of Set 1 | hualmay\n",
      "Processing Record 210 of Set 1 | grand gaube\n",
      "Processing Record 211 of Set 1 | meulaboh\n",
      "Processing Record 212 of Set 1 | oranjemund\n",
      "Processing Record 213 of Set 1 | charters towers\n",
      "Processing Record 214 of Set 1 | barroualie\n",
      "City not found. Skipping...\n",
      "Processing Record 215 of Set 1 | umm kaddadah\n",
      "Processing Record 216 of Set 1 | kalmunai\n",
      "Processing Record 217 of Set 1 | turukhansk\n",
      "Processing Record 218 of Set 1 | mnogovershinnyy\n",
      "Processing Record 219 of Set 1 | tarko-sale\n",
      "Processing Record 220 of Set 1 | qaqortoq\n",
      "Processing Record 221 of Set 1 | port elizabeth\n",
      "Processing Record 222 of Set 1 | bulgan\n",
      "Processing Record 223 of Set 1 | shubarshi\n",
      "Processing Record 224 of Set 1 | saskylakh\n",
      "Processing Record 225 of Set 1 | the valley\n",
      "Processing Record 226 of Set 1 | torbay\n",
      "Processing Record 227 of Set 1 | kawana waters\n",
      "City not found. Skipping...\n",
      "Processing Record 228 of Set 1 | leningradskiy\n",
      "Processing Record 229 of Set 1 | carutapera\n",
      "Processing Record 230 of Set 1 | wanning\n",
      "Processing Record 231 of Set 1 | qaanaaq\n",
      "Processing Record 232 of Set 1 | casa nova\n",
      "Processing Record 233 of Set 1 | lagos\n",
      "Processing Record 234 of Set 1 | chokurdakh\n",
      "Processing Record 235 of Set 1 | los llanos de aridane\n",
      "Processing Record 236 of Set 1 | cao bang\n",
      "Processing Record 237 of Set 1 | fairbanks\n",
      "Processing Record 238 of Set 1 | victoria\n",
      "Processing Record 239 of Set 1 | ngama\n",
      "Processing Record 240 of Set 1 | talnakh\n",
      "Processing Record 241 of Set 1 | amderma\n",
      "City not found. Skipping...\n",
      "Processing Record 242 of Set 1 | butaritari\n",
      "Processing Record 243 of Set 1 | klaksvik\n",
      "Processing Record 244 of Set 1 | saint-augustin\n",
      "Processing Record 245 of Set 1 | rudnaya pristan\n",
      "Processing Record 246 of Set 1 | bantry\n",
      "Processing Record 247 of Set 1 | iqaluit\n",
      "Processing Record 248 of Set 1 | carnarvon\n",
      "Processing Record 249 of Set 1 | san pedro\n",
      "Processing Record 250 of Set 1 | edd\n",
      "Processing Record 251 of Set 1 | carlos chagas\n",
      "Processing Record 252 of Set 1 | new norfolk\n",
      "Processing Record 253 of Set 1 | yakeshi\n",
      "Processing Record 254 of Set 1 | oistins\n",
      "Processing Record 255 of Set 1 | belfast\n",
      "Processing Record 256 of Set 1 | luorong\n",
      "Processing Record 257 of Set 1 | comodoro rivadavia\n",
      "Processing Record 258 of Set 1 | rorvik\n",
      "Processing Record 259 of Set 1 | lebu\n",
      "Processing Record 260 of Set 1 | san patricio\n",
      "Processing Record 261 of Set 1 | kapustin yar-1\n",
      "City not found. Skipping...\n",
      "Processing Record 262 of Set 1 | morehead\n",
      "Processing Record 263 of Set 1 | touros\n",
      "Processing Record 264 of Set 1 | coahuayana\n",
      "Processing Record 265 of Set 1 | wulanhaote\n",
      "City not found. Skipping...\n",
      "Processing Record 266 of Set 1 | hamilton\n",
      "Processing Record 267 of Set 1 | bolobo\n",
      "Processing Record 268 of Set 1 | andselv\n",
      "City not found. Skipping...\n",
      "Processing Record 269 of Set 1 | rewa\n",
      "Processing Record 270 of Set 1 | semnan\n",
      "Processing Record 271 of Set 1 | xinzhi\n",
      "Processing Record 272 of Set 1 | taburi\n",
      "City not found. Skipping...\n",
      "Processing Record 273 of Set 1 | tsihombe\n",
      "City not found. Skipping...\n",
      "Processing Record 274 of Set 1 | kawalu\n",
      "Processing Record 275 of Set 1 | kyra\n",
      "Processing Record 276 of Set 1 | barra patuca\n",
      "Processing Record 277 of Set 1 | porto santo\n",
      "Processing Record 278 of Set 1 | vanderhoof\n",
      "Processing Record 279 of Set 1 | acandi\n",
      "Processing Record 280 of Set 1 | goderich\n",
      "Processing Record 281 of Set 1 | krasnyy yar\n",
      "Processing Record 282 of Set 1 | fuerte\n",
      "Processing Record 283 of Set 1 | bereda\n",
      "Processing Record 284 of Set 1 | batagay-alyta\n",
      "Processing Record 285 of Set 1 | umtata\n",
      "Processing Record 286 of Set 1 | tilichiki\n",
      "Processing Record 287 of Set 1 | anchorage\n",
      "Processing Record 288 of Set 1 | bambous virieux\n",
      "Processing Record 289 of Set 1 | longyearbyen\n",
      "Processing Record 290 of Set 1 | tambul\n",
      "City not found. Skipping...\n",
      "Processing Record 291 of Set 1 | lata\n",
      "Processing Record 292 of Set 1 | kuna\n",
      "Processing Record 293 of Set 1 | duz\n",
      "City not found. Skipping...\n",
      "Processing Record 294 of Set 1 | valparaiso\n",
      "Processing Record 295 of Set 1 | burica\n",
      "City not found. Skipping...\n",
      "Processing Record 296 of Set 1 | oranjestad\n",
      "Processing Record 297 of Set 1 | karaul\n",
      "City not found. Skipping...\n",
      "Processing Record 298 of Set 1 | tocopilla\n",
      "Processing Record 299 of Set 1 | bengkulu\n",
      "Processing Record 300 of Set 1 | andra\n",
      "Processing Record 301 of Set 1 | anicuns\n",
      "Processing Record 302 of Set 1 | faanui\n",
      "Processing Record 303 of Set 1 | sao mateus\n",
      "Processing Record 304 of Set 1 | pedasi\n",
      "Processing Record 305 of Set 1 | ancud\n",
      "Processing Record 306 of Set 1 | naifaru\n",
      "Processing Record 307 of Set 1 | sechura\n",
      "Processing Record 308 of Set 1 | manuk mangkaw\n",
      "Processing Record 309 of Set 1 | jiexiu\n",
      "Processing Record 310 of Set 1 | buala\n",
      "Processing Record 311 of Set 1 | kasongo-lunda\n",
      "Processing Record 312 of Set 1 | grand river south east\n",
      "City not found. Skipping...\n",
      "Processing Record 313 of Set 1 | khonuu\n",
      "City not found. Skipping...\n",
      "Processing Record 314 of Set 1 | coremas\n",
      "Processing Record 315 of Set 1 | kampot\n",
      "Processing Record 316 of Set 1 | sabzevar\n",
      "Processing Record 317 of Set 1 | ternate\n",
      "Processing Record 318 of Set 1 | impfondo\n",
      "Processing Record 319 of Set 1 | campbeltown\n",
      "Processing Record 320 of Set 1 | heide\n",
      "Processing Record 321 of Set 1 | vaitupu\n",
      "City not found. Skipping...\n",
      "Processing Record 322 of Set 1 | okhotsk\n",
      "Processing Record 323 of Set 1 | porto de mos\n",
      "Processing Record 324 of Set 1 | maldonado\n",
      "Processing Record 325 of Set 1 | ribeira grande\n",
      "Processing Record 326 of Set 1 | porto walter\n",
      "Processing Record 327 of Set 1 | nuuk\n",
      "Processing Record 328 of Set 1 | rincon\n",
      "Processing Record 329 of Set 1 | mega\n",
      "Processing Record 330 of Set 1 | maniitsoq\n",
      "Processing Record 331 of Set 1 | tianpeng\n",
      "Processing Record 332 of Set 1 | tomigusuku\n",
      "Processing Record 333 of Set 1 | ovalle\n",
      "Processing Record 334 of Set 1 | husavik\n",
      "Processing Record 335 of Set 1 | kudahuvadhoo\n",
      "Processing Record 336 of Set 1 | itaobim\n",
      "Processing Record 337 of Set 1 | hudson\n",
      "Processing Record 338 of Set 1 | kirakira\n",
      "Processing Record 339 of Set 1 | avera\n",
      "Processing Record 340 of Set 1 | sjenica\n",
      "Processing Record 341 of Set 1 | broome\n",
      "Processing Record 342 of Set 1 | dukat\n",
      "Processing Record 343 of Set 1 | kenai\n",
      "Processing Record 344 of Set 1 | corowa\n",
      "Processing Record 345 of Set 1 | iskateley\n",
      "Processing Record 346 of Set 1 | maningrida\n",
      "Processing Record 347 of Set 1 | taksimo\n",
      "Processing Record 348 of Set 1 | vreed en hoop\n",
      "City not found. Skipping...\n",
      "Processing Record 349 of Set 1 | nizhniy mamon\n",
      "Processing Record 350 of Set 1 | manacapuru\n",
      "Processing Record 351 of Set 1 | eenhana\n",
      "Processing Record 352 of Set 1 | catamarca\n",
      "Processing Record 353 of Set 1 | pevek\n",
      "Processing Record 354 of Set 1 | manokwari\n",
      "Processing Record 355 of Set 1 | bima\n",
      "Processing Record 356 of Set 1 | kumo\n",
      "Processing Record 357 of Set 1 | yabrud\n",
      "Processing Record 358 of Set 1 | auraiya\n",
      "Processing Record 359 of Set 1 | riyadh\n",
      "Processing Record 360 of Set 1 | havoysund\n",
      "Processing Record 361 of Set 1 | asau\n",
      "Processing Record 362 of Set 1 | lichinga\n",
      "Processing Record 363 of Set 1 | swellendam\n",
      "Processing Record 364 of Set 1 | russell\n",
      "Processing Record 365 of Set 1 | lerwick\n",
      "Processing Record 366 of Set 1 | tabulbah\n",
      "City not found. Skipping...\n",
      "Processing Record 367 of Set 1 | kisangani\n",
      "Processing Record 368 of Set 1 | kapurthala\n"
     ]
    },
    {
     "name": "stdout",
     "output_type": "stream",
     "text": [
      "Processing Record 369 of Set 1 | muzhi\n",
      "Processing Record 370 of Set 1 | geraldton\n",
      "Processing Record 371 of Set 1 | ngukurr\n",
      "City not found. Skipping...\n",
      "Processing Record 372 of Set 1 | saint-martin-boulogne\n",
      "Processing Record 373 of Set 1 | trimbak\n",
      "Processing Record 374 of Set 1 | alamosa\n",
      "Processing Record 375 of Set 1 | tumannyy\n",
      "City not found. Skipping...\n",
      "Processing Record 376 of Set 1 | morondava\n",
      "Processing Record 377 of Set 1 | aguie\n",
      "Processing Record 378 of Set 1 | svobodnyy\n",
      "Processing Record 379 of Set 1 | baie-comeau\n",
      "Processing Record 380 of Set 1 | kerteh\n",
      "City not found. Skipping...\n",
      "Processing Record 381 of Set 1 | urumqi\n",
      "Processing Record 382 of Set 1 | son la\n",
      "Processing Record 383 of Set 1 | makaha\n",
      "Processing Record 384 of Set 1 | berdigestyakh\n",
      "Processing Record 385 of Set 1 | abu samrah\n",
      "Processing Record 386 of Set 1 | yar-sale\n",
      "Processing Record 387 of Set 1 | saleaula\n",
      "City not found. Skipping...\n",
      "Processing Record 388 of Set 1 | samusu\n",
      "City not found. Skipping...\n",
      "Processing Record 389 of Set 1 | grindavik\n",
      "Processing Record 390 of Set 1 | lafia\n",
      "Processing Record 391 of Set 1 | yellowknife\n",
      "Processing Record 392 of Set 1 | deogarh\n",
      "Processing Record 393 of Set 1 | qandala\n",
      "Processing Record 394 of Set 1 | tamandare\n",
      "Processing Record 395 of Set 1 | rabo de peixe\n",
      "Processing Record 396 of Set 1 | pandan\n",
      "Processing Record 397 of Set 1 | tramandai\n",
      "Processing Record 398 of Set 1 | sug-aksy\n",
      "City not found. Skipping...\n",
      "Processing Record 399 of Set 1 | kartaly\n",
      "Processing Record 400 of Set 1 | bukama\n",
      "Processing Record 401 of Set 1 | cherskiy\n",
      "Processing Record 402 of Set 1 | toila\n",
      "Processing Record 403 of Set 1 | qabis\n",
      "City not found. Skipping...\n",
      "Processing Record 404 of Set 1 | douglas\n",
      "Processing Record 405 of Set 1 | malwan\n",
      "City not found. Skipping...\n",
      "Processing Record 406 of Set 1 | abeche\n",
      "Processing Record 407 of Set 1 | oriximina\n",
      "Processing Record 408 of Set 1 | kavaratti\n",
      "Processing Record 409 of Set 1 | galiwinku\n",
      "City not found. Skipping...\n",
      "Processing Record 410 of Set 1 | taoudenni\n",
      "Processing Record 411 of Set 1 | sept-iles\n",
      "Processing Record 412 of Set 1 | santa rosa\n",
      "Processing Record 413 of Set 1 | champerico\n",
      "Processing Record 414 of Set 1 | shimoda\n",
      "Processing Record 415 of Set 1 | gangotri\n",
      "City not found. Skipping...\n",
      "Processing Record 416 of Set 1 | visp\n",
      "Processing Record 417 of Set 1 | anapolis\n",
      "Processing Record 418 of Set 1 | lakatoro\n",
      "Processing Record 419 of Set 1 | bac lieu\n",
      "Processing Record 420 of Set 1 | gat\n",
      "Processing Record 421 of Set 1 | strezhevoy\n",
      "Processing Record 422 of Set 1 | awjilah\n",
      "Processing Record 423 of Set 1 | helong\n",
      "Processing Record 424 of Set 1 | lebanon\n",
      "Processing Record 425 of Set 1 | halifax\n",
      "Processing Record 426 of Set 1 | arenapolis\n",
      "Processing Record 427 of Set 1 | la tuque\n",
      "Processing Record 428 of Set 1 | bako\n",
      "Processing Record 429 of Set 1 | inhambane\n",
      "Processing Record 430 of Set 1 | aleysk\n",
      "Processing Record 431 of Set 1 | ogembo\n",
      "Processing Record 432 of Set 1 | orlik\n",
      "Processing Record 433 of Set 1 | alice springs\n",
      "Processing Record 434 of Set 1 | baft\n",
      "Processing Record 435 of Set 1 | namwala\n",
      "Processing Record 436 of Set 1 | kruisfontein\n",
      "Processing Record 437 of Set 1 | chapaevsk\n",
      "Processing Record 438 of Set 1 | ossora\n",
      "Processing Record 439 of Set 1 | nouadhibou\n",
      "Processing Record 440 of Set 1 | isangel\n",
      "Processing Record 441 of Set 1 | kiunga\n",
      "Processing Record 442 of Set 1 | yulara\n",
      "Processing Record 443 of Set 1 | bandarbeyla\n",
      "Processing Record 444 of Set 1 | moose factory\n",
      "Processing Record 445 of Set 1 | roma\n",
      "Processing Record 446 of Set 1 | berlevag\n",
      "Processing Record 447 of Set 1 | kasempa\n",
      "Processing Record 448 of Set 1 | zhoucheng\n",
      "Processing Record 449 of Set 1 | chifeng\n",
      "Processing Record 450 of Set 1 | manzhouli\n",
      "Processing Record 451 of Set 1 | stoyba\n",
      "City not found. Skipping...\n",
      "Processing Record 452 of Set 1 | upington\n",
      "Processing Record 453 of Set 1 | nandyal\n",
      "Processing Record 454 of Set 1 | necochea\n",
      "Processing Record 455 of Set 1 | nalut\n",
      "Processing Record 456 of Set 1 | mouzakion\n",
      "City not found. Skipping...\n",
      "Processing Record 457 of Set 1 | launceston\n",
      "Processing Record 458 of Set 1 | waterboro\n",
      "Processing Record 459 of Set 1 | san bartolome de tirajana\n",
      "Processing Record 460 of Set 1 | nandi hills\n",
      "Processing Record 461 of Set 1 | kieta\n",
      "Processing Record 462 of Set 1 | yibin\n",
      "Processing Record 463 of Set 1 | puerto narino\n",
      "Processing Record 464 of Set 1 | fort saint john\n",
      "City not found. Skipping...\n",
      "Processing Record 465 of Set 1 | christchurch\n",
      "Processing Record 466 of Set 1 | la ronge\n",
      "Processing Record 467 of Set 1 | san jose\n",
      "Processing Record 468 of Set 1 | vihari\n",
      "Processing Record 469 of Set 1 | tessalit\n",
      "Processing Record 470 of Set 1 | nizhnyaya poyma\n",
      "Processing Record 471 of Set 1 | easley\n",
      "Processing Record 472 of Set 1 | cayenne\n",
      "Processing Record 473 of Set 1 | sakskobing\n",
      "Processing Record 474 of Set 1 | inderborskiy\n",
      "City not found. Skipping...\n",
      "Processing Record 475 of Set 1 | chik\n",
      "Processing Record 476 of Set 1 | iquique\n",
      "Processing Record 477 of Set 1 | namatanai\n",
      "Processing Record 478 of Set 1 | zuwarah\n",
      "Processing Record 479 of Set 1 | talcahuano\n",
      "Processing Record 480 of Set 1 | trinidad\n",
      "Processing Record 481 of Set 1 | dalnerechensk\n",
      "Processing Record 482 of Set 1 | sao miguel do araguaia\n",
      "Processing Record 483 of Set 1 | perth\n",
      "Processing Record 484 of Set 1 | trelew\n",
      "Processing Record 485 of Set 1 | rio grande\n",
      "Processing Record 486 of Set 1 | sidney\n",
      "Processing Record 487 of Set 1 | sokol\n",
      "Processing Record 488 of Set 1 | thinadhoo\n",
      "Processing Record 489 of Set 1 | tautira\n",
      "Processing Record 490 of Set 1 | sinnamary\n",
      "Processing Record 491 of Set 1 | conceicao do araguaia\n",
      "Processing Record 492 of Set 1 | kondinskoye\n",
      "Processing Record 493 of Set 1 | namtsy\n",
      "Processing Record 494 of Set 1 | luanda\n",
      "Processing Record 495 of Set 1 | tinalmud\n",
      "Processing Record 496 of Set 1 | berbera\n",
      "Processing Record 497 of Set 1 | rexburg\n",
      "Processing Record 498 of Set 1 | ahipara\n",
      "Processing Record 499 of Set 1 | samarai\n",
      "Processing Record 500 of Set 1 | hopkinsville\n",
      "Processing Record 501 of Set 1 | nizhniy tsasuchey\n",
      "Processing Record 502 of Set 1 | amurrio\n",
      "Processing Record 503 of Set 1 | finschhafen\n",
      "Processing Record 504 of Set 1 | vila velha\n",
      "Processing Record 505 of Set 1 | juegang\n",
      "Processing Record 506 of Set 1 | beringovskiy\n",
      "Processing Record 507 of Set 1 | martinsville\n",
      "Processing Record 508 of Set 1 | dingle\n",
      "Processing Record 509 of Set 1 | malartic\n",
      "Processing Record 510 of Set 1 | arman\n",
      "Processing Record 511 of Set 1 | lompoc\n",
      "Processing Record 512 of Set 1 | kendari\n",
      "Processing Record 513 of Set 1 | palabuhanratu\n",
      "City not found. Skipping...\n",
      "Processing Record 514 of Set 1 | dunedin\n",
      "Processing Record 515 of Set 1 | maua\n",
      "Processing Record 516 of Set 1 | bilma\n",
      "Processing Record 517 of Set 1 | sitka\n",
      "Processing Record 518 of Set 1 | middelburg\n",
      "Processing Record 519 of Set 1 | sistranda\n",
      "Processing Record 520 of Set 1 | mount gambier\n",
      "Processing Record 521 of Set 1 | elliot lake\n",
      "Processing Record 522 of Set 1 | torrington\n",
      "Processing Record 523 of Set 1 | murfreesboro\n",
      "Processing Record 524 of Set 1 | pocri\n",
      "Processing Record 525 of Set 1 | san francisco\n",
      "Processing Record 526 of Set 1 | kamenskoye\n",
      "City not found. Skipping...\n",
      "Processing Record 527 of Set 1 | ngunguru\n",
      "Processing Record 528 of Set 1 | karauzyak\n",
      "City not found. Skipping...\n",
      "Processing Record 529 of Set 1 | den helder\n",
      "Processing Record 530 of Set 1 | angoche\n",
      "Processing Record 531 of Set 1 | kayes\n",
      "Processing Record 532 of Set 1 | maniwaki\n",
      "Processing Record 533 of Set 1 | kulachi\n",
      "Processing Record 534 of Set 1 | vysokogornyy\n",
      "Processing Record 535 of Set 1 | valley city\n",
      "Processing Record 536 of Set 1 | te anau\n",
      "Processing Record 537 of Set 1 | verkhnyaya toyma\n",
      "Processing Record 538 of Set 1 | belyy yar\n",
      "Processing Record 539 of Set 1 | kavieng\n",
      "Processing Record 540 of Set 1 | banepa\n",
      "Processing Record 541 of Set 1 | bairiki\n",
      "Processing Record 542 of Set 1 | jacareacanga\n",
      "Processing Record 543 of Set 1 | richards bay\n",
      "Processing Record 544 of Set 1 | santa rosalia\n",
      "Processing Record 545 of Set 1 | bardiyah\n",
      "Processing Record 546 of Set 1 | scarborough\n",
      "Processing Record 547 of Set 1 | da nang\n",
      "Processing Record 548 of Set 1 | pangody\n",
      "Processing Record 549 of Set 1 | barentu\n",
      "Processing Record 550 of Set 1 | horta\n"
     ]
    },
    {
     "name": "stdout",
     "output_type": "stream",
     "text": [
      "Processing Record 551 of Set 1 | verkhnechusovskiye gorodki\n",
      "Processing Record 552 of Set 1 | bathsheba\n",
      "Processing Record 553 of Set 1 | pakxan\n",
      "Processing Record 554 of Set 1 | merritt island\n",
      "Processing Record 555 of Set 1 | balad\n",
      "Processing Record 556 of Set 1 | mayaky\n",
      "Processing Record 557 of Set 1 | chernyshevskiy\n",
      "Processing Record 558 of Set 1 | jiaonan\n",
      "Processing Record 559 of Set 1 | dwarka\n",
      "Processing Record 560 of Set 1 | danville\n",
      "Processing Record 561 of Set 1 | nouakchott\n",
      "Processing Record 562 of Set 1 | popondetta\n",
      "Processing Record 563 of Set 1 | balurghat\n",
      "Processing Record 564 of Set 1 | mendahara\n",
      "City not found. Skipping...\n",
      "Processing Record 565 of Set 1 | coihaique\n",
      "Processing Record 566 of Set 1 | ginda\n",
      "Processing Record 567 of Set 1 | plettenberg bay\n",
      "Processing Record 568 of Set 1 | arlit\n",
      "Processing Record 569 of Set 1 | karwar\n",
      "Processing Record 570 of Set 1 | magadi\n",
      "Processing Record 571 of Set 1 | talaja\n",
      "Processing Record 572 of Set 1 | mizdah\n",
      "Processing Record 573 of Set 1 | culipapa\n",
      "City not found. Skipping...\n",
      "Processing Record 574 of Set 1 | torres\n",
      "Processing Record 575 of Set 1 | odweyne\n",
      "Processing Record 576 of Set 1 | tembisa\n",
      "Processing Record 577 of Set 1 | veraval\n",
      "Processing Record 578 of Set 1 | abonnema\n",
      "Processing Record 579 of Set 1 | shenzhen\n",
      "Processing Record 580 of Set 1 | lewistown\n",
      "Processing Record 581 of Set 1 | nantucket\n",
      "Processing Record 582 of Set 1 | semporna\n",
      "Processing Record 583 of Set 1 | nemuro\n",
      "Processing Record 584 of Set 1 | tongliao\n",
      "Processing Record 585 of Set 1 | porto torres\n",
      "Processing Record 586 of Set 1 | challans\n",
      "Processing Record 587 of Set 1 | nefteyugansk\n",
      "Processing Record 588 of Set 1 | sangueya\n",
      "Processing Record 589 of Set 1 | qarqin\n",
      "Processing Record 590 of Set 1 | batsfjord\n",
      "Processing Record 591 of Set 1 | jaffna\n",
      "Processing Record 592 of Set 1 | dolbeau\n",
      "City not found. Skipping...\n",
      "Processing Record 593 of Set 1 | banjar\n",
      "Processing Record 594 of Set 1 | evensk\n",
      "Processing Record 595 of Set 1 | bilibino\n",
      "Processing Record 596 of Set 1 | puerto escondido\n"
     ]
    }
   ],
   "source": [
    "# Save config information.\n",
    "url = \"http://api.openweathermap.org/data/2.5/weather?\"\n",
    "units = \"imperial\"\n",
    "\n",
    "# Build partial query URL\n",
    "query_url = f\"{url}appid={weather_api_key}&units={units}&q=\"\n",
    "\n",
    "# set up lists to hold reponse info\n",
    "lat=[]\n",
    "lng=[]\n",
    "max_temp=[]\n",
    "humidity=[]\n",
    "cloudiness=[]\n",
    "wind_speed=[]\n",
    "country=[]\n",
    "date=[]\n",
    "city_counts=0\n",
    "cities_found=[]\n",
    "# Loop through the list of cities and perform a request for data on each\n",
    "for city in cities:\n",
    "    # Try to grab the weather data if the city is in the OpenWeather API\n",
    "    try:\n",
    "        city_counts+=1\n",
    "        print(f'Processing Record {city_counts} of Set 1 | {city}')        \n",
    "        response = requests.get(query_url + city).json()\n",
    "        \n",
    "        lat.append(response['coord']['lat'])\n",
    "        lng.append(response['coord']['lon'])\n",
    "        max_temp.append(response['main']['temp_max'])\n",
    "        humidity.append(response['main']['humidity'])\n",
    "        cloudiness.append(response['clouds']['all'])\n",
    "        wind_speed.append(response['wind']['speed'])\n",
    "        country.append(response['sys']['country'])\n",
    "        date.append(response['dt'])\n",
    "        cities_found.append(city)\n",
    "    # Handle exceptions for a character that is not available in the OpenWeather API\n",
    "    except:\n",
    "        print(\"City not found. Skipping...\")\n",
    "\n",
    "    "
   ]
  },
  {
   "cell_type": "markdown",
   "metadata": {},
   "source": [
    "### Convert Raw Data to DataFrame\n",
    "* Export the city data into a .csv.\n",
    "* Display the DataFrame"
   ]
  },
  {
   "cell_type": "code",
   "execution_count": 4,
   "metadata": {},
   "outputs": [
    {
     "data": {
      "text/plain": [
       "545"
      ]
     },
     "execution_count": 4,
     "metadata": {},
     "output_type": "execute_result"
    }
   ],
   "source": [
    "# double check if there are at least 500 cities\n",
    "len(cities_found)"
   ]
  },
  {
   "cell_type": "code",
   "execution_count": 5,
   "metadata": {},
   "outputs": [
    {
     "data": {
      "text/html": [
       "<div>\n",
       "<style scoped>\n",
       "    .dataframe tbody tr th:only-of-type {\n",
       "        vertical-align: middle;\n",
       "    }\n",
       "\n",
       "    .dataframe tbody tr th {\n",
       "        vertical-align: top;\n",
       "    }\n",
       "\n",
       "    .dataframe thead th {\n",
       "        text-align: right;\n",
       "    }\n",
       "</style>\n",
       "<table border=\"1\" class=\"dataframe\">\n",
       "  <thead>\n",
       "    <tr style=\"text-align: right;\">\n",
       "      <th></th>\n",
       "      <th>city</th>\n",
       "      <th>Lat</th>\n",
       "      <th>Lng</th>\n",
       "      <th>Max Temp</th>\n",
       "      <th>Humidity</th>\n",
       "      <th>Cloudiness</th>\n",
       "      <th>Wind Speed</th>\n",
       "      <th>Country</th>\n",
       "      <th>Date</th>\n",
       "    </tr>\n",
       "  </thead>\n",
       "  <tbody>\n",
       "    <tr>\n",
       "      <th>0</th>\n",
       "      <td>ushuaia</td>\n",
       "      <td>-54.8000</td>\n",
       "      <td>-68.3000</td>\n",
       "      <td>51.80</td>\n",
       "      <td>58</td>\n",
       "      <td>75</td>\n",
       "      <td>8.05</td>\n",
       "      <td>AR</td>\n",
       "      <td>1615216045</td>\n",
       "    </tr>\n",
       "    <tr>\n",
       "      <th>1</th>\n",
       "      <td>ostrovnoy</td>\n",
       "      <td>68.0531</td>\n",
       "      <td>39.5131</td>\n",
       "      <td>1.22</td>\n",
       "      <td>89</td>\n",
       "      <td>100</td>\n",
       "      <td>1.61</td>\n",
       "      <td>RU</td>\n",
       "      <td>1615216045</td>\n",
       "    </tr>\n",
       "    <tr>\n",
       "      <th>2</th>\n",
       "      <td>severo-kurilsk</td>\n",
       "      <td>50.6789</td>\n",
       "      <td>156.1250</td>\n",
       "      <td>17.40</td>\n",
       "      <td>90</td>\n",
       "      <td>95</td>\n",
       "      <td>20.22</td>\n",
       "      <td>RU</td>\n",
       "      <td>1615216046</td>\n",
       "    </tr>\n",
       "    <tr>\n",
       "      <th>3</th>\n",
       "      <td>warrnambool</td>\n",
       "      <td>-38.3833</td>\n",
       "      <td>142.4833</td>\n",
       "      <td>57.00</td>\n",
       "      <td>93</td>\n",
       "      <td>98</td>\n",
       "      <td>6.82</td>\n",
       "      <td>AU</td>\n",
       "      <td>1615216046</td>\n",
       "    </tr>\n",
       "    <tr>\n",
       "      <th>4</th>\n",
       "      <td>saryozek</td>\n",
       "      <td>44.3583</td>\n",
       "      <td>77.9753</td>\n",
       "      <td>35.83</td>\n",
       "      <td>94</td>\n",
       "      <td>100</td>\n",
       "      <td>4.54</td>\n",
       "      <td>KZ</td>\n",
       "      <td>1615216046</td>\n",
       "    </tr>\n",
       "    <tr>\n",
       "      <th>...</th>\n",
       "      <td>...</td>\n",
       "      <td>...</td>\n",
       "      <td>...</td>\n",
       "      <td>...</td>\n",
       "      <td>...</td>\n",
       "      <td>...</td>\n",
       "      <td>...</td>\n",
       "      <td>...</td>\n",
       "      <td>...</td>\n",
       "    </tr>\n",
       "    <tr>\n",
       "      <th>540</th>\n",
       "      <td>jaffna</td>\n",
       "      <td>9.6685</td>\n",
       "      <td>80.0074</td>\n",
       "      <td>80.83</td>\n",
       "      <td>82</td>\n",
       "      <td>19</td>\n",
       "      <td>12.84</td>\n",
       "      <td>LK</td>\n",
       "      <td>1615216165</td>\n",
       "    </tr>\n",
       "    <tr>\n",
       "      <th>541</th>\n",
       "      <td>banjar</td>\n",
       "      <td>-8.1900</td>\n",
       "      <td>114.9675</td>\n",
       "      <td>80.60</td>\n",
       "      <td>89</td>\n",
       "      <td>40</td>\n",
       "      <td>2.30</td>\n",
       "      <td>ID</td>\n",
       "      <td>1615216165</td>\n",
       "    </tr>\n",
       "    <tr>\n",
       "      <th>542</th>\n",
       "      <td>evensk</td>\n",
       "      <td>61.9500</td>\n",
       "      <td>159.2333</td>\n",
       "      <td>-24.41</td>\n",
       "      <td>72</td>\n",
       "      <td>12</td>\n",
       "      <td>6.40</td>\n",
       "      <td>RU</td>\n",
       "      <td>1615216165</td>\n",
       "    </tr>\n",
       "    <tr>\n",
       "      <th>543</th>\n",
       "      <td>bilibino</td>\n",
       "      <td>68.0546</td>\n",
       "      <td>166.4372</td>\n",
       "      <td>-25.78</td>\n",
       "      <td>83</td>\n",
       "      <td>100</td>\n",
       "      <td>4.32</td>\n",
       "      <td>RU</td>\n",
       "      <td>1615216165</td>\n",
       "    </tr>\n",
       "    <tr>\n",
       "      <th>544</th>\n",
       "      <td>puerto escondido</td>\n",
       "      <td>15.8500</td>\n",
       "      <td>-97.0667</td>\n",
       "      <td>80.60</td>\n",
       "      <td>83</td>\n",
       "      <td>1</td>\n",
       "      <td>5.75</td>\n",
       "      <td>MX</td>\n",
       "      <td>1615216165</td>\n",
       "    </tr>\n",
       "  </tbody>\n",
       "</table>\n",
       "<p>545 rows × 9 columns</p>\n",
       "</div>"
      ],
      "text/plain": [
       "                 city      Lat       Lng  Max Temp  Humidity  Cloudiness  \\\n",
       "0             ushuaia -54.8000  -68.3000     51.80        58          75   \n",
       "1           ostrovnoy  68.0531   39.5131      1.22        89         100   \n",
       "2      severo-kurilsk  50.6789  156.1250     17.40        90          95   \n",
       "3         warrnambool -38.3833  142.4833     57.00        93          98   \n",
       "4            saryozek  44.3583   77.9753     35.83        94         100   \n",
       "..                ...      ...       ...       ...       ...         ...   \n",
       "540            jaffna   9.6685   80.0074     80.83        82          19   \n",
       "541            banjar  -8.1900  114.9675     80.60        89          40   \n",
       "542            evensk  61.9500  159.2333    -24.41        72          12   \n",
       "543          bilibino  68.0546  166.4372    -25.78        83         100   \n",
       "544  puerto escondido  15.8500  -97.0667     80.60        83           1   \n",
       "\n",
       "     Wind Speed Country        Date  \n",
       "0          8.05      AR  1615216045  \n",
       "1          1.61      RU  1615216045  \n",
       "2         20.22      RU  1615216046  \n",
       "3          6.82      AU  1615216046  \n",
       "4          4.54      KZ  1615216046  \n",
       "..          ...     ...         ...  \n",
       "540       12.84      LK  1615216165  \n",
       "541        2.30      ID  1615216165  \n",
       "542        6.40      RU  1615216165  \n",
       "543        4.32      RU  1615216165  \n",
       "544        5.75      MX  1615216165  \n",
       "\n",
       "[545 rows x 9 columns]"
      ]
     },
     "execution_count": 5,
     "metadata": {},
     "output_type": "execute_result"
    }
   ],
   "source": [
    "# display the weather data into a DataFrame\n",
    "city_data_df=pd.DataFrame({'city':cities_found,'Lat':lat,'Lng': lng,'Max Temp': max_temp,\n",
    "                           'Humidity': humidity,'Cloudiness': cloudiness,'Wind Speed': wind_speed,'Country':country, 'Date':date})\n",
    "city_data_df"
   ]
  },
  {
   "cell_type": "code",
   "execution_count": 6,
   "metadata": {},
   "outputs": [
    {
     "data": {
      "text/html": [
       "<div>\n",
       "<style scoped>\n",
       "    .dataframe tbody tr th:only-of-type {\n",
       "        vertical-align: middle;\n",
       "    }\n",
       "\n",
       "    .dataframe tbody tr th {\n",
       "        vertical-align: top;\n",
       "    }\n",
       "\n",
       "    .dataframe thead th {\n",
       "        text-align: right;\n",
       "    }\n",
       "</style>\n",
       "<table border=\"1\" class=\"dataframe\">\n",
       "  <thead>\n",
       "    <tr style=\"text-align: right;\">\n",
       "      <th></th>\n",
       "      <th>Lat</th>\n",
       "      <th>Lng</th>\n",
       "      <th>Max Temp</th>\n",
       "      <th>Humidity</th>\n",
       "      <th>Cloudiness</th>\n",
       "      <th>Wind Speed</th>\n",
       "      <th>Date</th>\n",
       "    </tr>\n",
       "  </thead>\n",
       "  <tbody>\n",
       "    <tr>\n",
       "      <th>count</th>\n",
       "      <td>545.000000</td>\n",
       "      <td>545.000000</td>\n",
       "      <td>545.000000</td>\n",
       "      <td>545.000000</td>\n",
       "      <td>545.000000</td>\n",
       "      <td>545.000000</td>\n",
       "      <td>5.450000e+02</td>\n",
       "    </tr>\n",
       "    <tr>\n",
       "      <th>mean</th>\n",
       "      <td>19.475226</td>\n",
       "      <td>19.348427</td>\n",
       "      <td>55.118055</td>\n",
       "      <td>67.322936</td>\n",
       "      <td>45.634862</td>\n",
       "      <td>8.066037</td>\n",
       "      <td>1.615216e+09</td>\n",
       "    </tr>\n",
       "    <tr>\n",
       "      <th>std</th>\n",
       "      <td>33.569974</td>\n",
       "      <td>89.365480</td>\n",
       "      <td>30.929081</td>\n",
       "      <td>22.666912</td>\n",
       "      <td>38.887336</td>\n",
       "      <td>5.166016</td>\n",
       "      <td>7.493373e+01</td>\n",
       "    </tr>\n",
       "    <tr>\n",
       "      <th>min</th>\n",
       "      <td>-54.800000</td>\n",
       "      <td>-175.200000</td>\n",
       "      <td>-32.440000</td>\n",
       "      <td>7.000000</td>\n",
       "      <td>0.000000</td>\n",
       "      <td>0.160000</td>\n",
       "      <td>1.615215e+09</td>\n",
       "    </tr>\n",
       "    <tr>\n",
       "      <th>25%</th>\n",
       "      <td>-8.190000</td>\n",
       "      <td>-58.736800</td>\n",
       "      <td>33.800000</td>\n",
       "      <td>54.000000</td>\n",
       "      <td>1.000000</td>\n",
       "      <td>4.340000</td>\n",
       "      <td>1.615216e+09</td>\n",
       "    </tr>\n",
       "    <tr>\n",
       "      <th>50%</th>\n",
       "      <td>22.239400</td>\n",
       "      <td>21.416700</td>\n",
       "      <td>64.990000</td>\n",
       "      <td>73.000000</td>\n",
       "      <td>40.000000</td>\n",
       "      <td>6.910000</td>\n",
       "      <td>1.615216e+09</td>\n",
       "    </tr>\n",
       "    <tr>\n",
       "      <th>75%</th>\n",
       "      <td>47.440800</td>\n",
       "      <td>101.766700</td>\n",
       "      <td>79.300000</td>\n",
       "      <td>86.000000</td>\n",
       "      <td>87.000000</td>\n",
       "      <td>11.180000</td>\n",
       "      <td>1.615216e+09</td>\n",
       "    </tr>\n",
       "    <tr>\n",
       "      <th>max</th>\n",
       "      <td>78.218600</td>\n",
       "      <td>179.316700</td>\n",
       "      <td>105.800000</td>\n",
       "      <td>100.000000</td>\n",
       "      <td>100.000000</td>\n",
       "      <td>27.630000</td>\n",
       "      <td>1.615216e+09</td>\n",
       "    </tr>\n",
       "  </tbody>\n",
       "</table>\n",
       "</div>"
      ],
      "text/plain": [
       "              Lat         Lng    Max Temp    Humidity  Cloudiness  Wind Speed  \\\n",
       "count  545.000000  545.000000  545.000000  545.000000  545.000000  545.000000   \n",
       "mean    19.475226   19.348427   55.118055   67.322936   45.634862    8.066037   \n",
       "std     33.569974   89.365480   30.929081   22.666912   38.887336    5.166016   \n",
       "min    -54.800000 -175.200000  -32.440000    7.000000    0.000000    0.160000   \n",
       "25%     -8.190000  -58.736800   33.800000   54.000000    1.000000    4.340000   \n",
       "50%     22.239400   21.416700   64.990000   73.000000   40.000000    6.910000   \n",
       "75%     47.440800  101.766700   79.300000   86.000000   87.000000   11.180000   \n",
       "max     78.218600  179.316700  105.800000  100.000000  100.000000   27.630000   \n",
       "\n",
       "               Date  \n",
       "count  5.450000e+02  \n",
       "mean   1.615216e+09  \n",
       "std    7.493373e+01  \n",
       "min    1.615215e+09  \n",
       "25%    1.615216e+09  \n",
       "50%    1.615216e+09  \n",
       "75%    1.615216e+09  \n",
       "max    1.615216e+09  "
      ]
     },
     "execution_count": 6,
     "metadata": {},
     "output_type": "execute_result"
    }
   ],
   "source": [
    "# get the overall picture of the dataframe for potential outliers\n",
    "city_data_df.describe()"
   ]
  },
  {
   "cell_type": "markdown",
   "metadata": {},
   "source": [
    "## Inspect the data and remove the cities where the humidity > 100%.\n",
    "----\n",
    "Skip this step if there are no cities that have humidity > 100%. "
   ]
  },
  {
   "cell_type": "code",
   "execution_count": 7,
   "metadata": {},
   "outputs": [
    {
     "data": {
      "text/html": [
       "<div>\n",
       "<style scoped>\n",
       "    .dataframe tbody tr th:only-of-type {\n",
       "        vertical-align: middle;\n",
       "    }\n",
       "\n",
       "    .dataframe tbody tr th {\n",
       "        vertical-align: top;\n",
       "    }\n",
       "\n",
       "    .dataframe thead th {\n",
       "        text-align: right;\n",
       "    }\n",
       "</style>\n",
       "<table border=\"1\" class=\"dataframe\">\n",
       "  <thead>\n",
       "    <tr style=\"text-align: right;\">\n",
       "      <th></th>\n",
       "      <th>city</th>\n",
       "      <th>Lat</th>\n",
       "      <th>Lng</th>\n",
       "      <th>Max Temp</th>\n",
       "      <th>Humidity</th>\n",
       "      <th>Cloudiness</th>\n",
       "      <th>Wind Speed</th>\n",
       "      <th>Country</th>\n",
       "      <th>Date</th>\n",
       "    </tr>\n",
       "  </thead>\n",
       "  <tbody>\n",
       "  </tbody>\n",
       "</table>\n",
       "</div>"
      ],
      "text/plain": [
       "Empty DataFrame\n",
       "Columns: [city, Lat, Lng, Max Temp, Humidity, Cloudiness, Wind Speed, Country, Date]\n",
       "Index: []"
      ]
     },
     "execution_count": 7,
     "metadata": {},
     "output_type": "execute_result"
    }
   ],
   "source": [
    "#  Get the index of cities that have humidity over 100%.\n",
    "humidity_100plus_df=(city_data_df.loc[city_data_df['Humidity']>100,:]).copy()\n",
    "humidity_100plus_df.index"
   ]
  },
  {
   "cell_type": "code",
   "execution_count": 8,
   "metadata": {},
   "outputs": [
    {
     "data": {
      "text/html": [
       "<div>\n",
       "<style scoped>\n",
       "    .dataframe tbody tr th:only-of-type {\n",
       "        vertical-align: middle;\n",
       "    }\n",
       "\n",
       "    .dataframe tbody tr th {\n",
       "        vertical-align: top;\n",
       "    }\n",
       "\n",
       "    .dataframe thead th {\n",
       "        text-align: right;\n",
       "    }\n",
       "</style>\n",
       "<table border=\"1\" class=\"dataframe\">\n",
       "  <thead>\n",
       "    <tr style=\"text-align: right;\">\n",
       "      <th></th>\n",
       "      <th>city</th>\n",
       "      <th>Lat</th>\n",
       "      <th>Lng</th>\n",
       "      <th>Max Temp</th>\n",
       "      <th>Humidity</th>\n",
       "      <th>Cloudiness</th>\n",
       "      <th>Wind Speed</th>\n",
       "      <th>Country</th>\n",
       "      <th>Date</th>\n",
       "    </tr>\n",
       "  </thead>\n",
       "  <tbody>\n",
       "    <tr>\n",
       "      <th>0</th>\n",
       "      <td>ushuaia</td>\n",
       "      <td>-54.8000</td>\n",
       "      <td>-68.3000</td>\n",
       "      <td>51.80</td>\n",
       "      <td>58</td>\n",
       "      <td>75</td>\n",
       "      <td>8.05</td>\n",
       "      <td>AR</td>\n",
       "      <td>1615216045</td>\n",
       "    </tr>\n",
       "    <tr>\n",
       "      <th>1</th>\n",
       "      <td>ostrovnoy</td>\n",
       "      <td>68.0531</td>\n",
       "      <td>39.5131</td>\n",
       "      <td>1.22</td>\n",
       "      <td>89</td>\n",
       "      <td>100</td>\n",
       "      <td>1.61</td>\n",
       "      <td>RU</td>\n",
       "      <td>1615216045</td>\n",
       "    </tr>\n",
       "    <tr>\n",
       "      <th>2</th>\n",
       "      <td>severo-kurilsk</td>\n",
       "      <td>50.6789</td>\n",
       "      <td>156.1250</td>\n",
       "      <td>17.40</td>\n",
       "      <td>90</td>\n",
       "      <td>95</td>\n",
       "      <td>20.22</td>\n",
       "      <td>RU</td>\n",
       "      <td>1615216046</td>\n",
       "    </tr>\n",
       "    <tr>\n",
       "      <th>3</th>\n",
       "      <td>warrnambool</td>\n",
       "      <td>-38.3833</td>\n",
       "      <td>142.4833</td>\n",
       "      <td>57.00</td>\n",
       "      <td>93</td>\n",
       "      <td>98</td>\n",
       "      <td>6.82</td>\n",
       "      <td>AU</td>\n",
       "      <td>1615216046</td>\n",
       "    </tr>\n",
       "    <tr>\n",
       "      <th>4</th>\n",
       "      <td>saryozek</td>\n",
       "      <td>44.3583</td>\n",
       "      <td>77.9753</td>\n",
       "      <td>35.83</td>\n",
       "      <td>94</td>\n",
       "      <td>100</td>\n",
       "      <td>4.54</td>\n",
       "      <td>KZ</td>\n",
       "      <td>1615216046</td>\n",
       "    </tr>\n",
       "    <tr>\n",
       "      <th>...</th>\n",
       "      <td>...</td>\n",
       "      <td>...</td>\n",
       "      <td>...</td>\n",
       "      <td>...</td>\n",
       "      <td>...</td>\n",
       "      <td>...</td>\n",
       "      <td>...</td>\n",
       "      <td>...</td>\n",
       "      <td>...</td>\n",
       "    </tr>\n",
       "    <tr>\n",
       "      <th>540</th>\n",
       "      <td>jaffna</td>\n",
       "      <td>9.6685</td>\n",
       "      <td>80.0074</td>\n",
       "      <td>80.83</td>\n",
       "      <td>82</td>\n",
       "      <td>19</td>\n",
       "      <td>12.84</td>\n",
       "      <td>LK</td>\n",
       "      <td>1615216165</td>\n",
       "    </tr>\n",
       "    <tr>\n",
       "      <th>541</th>\n",
       "      <td>banjar</td>\n",
       "      <td>-8.1900</td>\n",
       "      <td>114.9675</td>\n",
       "      <td>80.60</td>\n",
       "      <td>89</td>\n",
       "      <td>40</td>\n",
       "      <td>2.30</td>\n",
       "      <td>ID</td>\n",
       "      <td>1615216165</td>\n",
       "    </tr>\n",
       "    <tr>\n",
       "      <th>542</th>\n",
       "      <td>evensk</td>\n",
       "      <td>61.9500</td>\n",
       "      <td>159.2333</td>\n",
       "      <td>-24.41</td>\n",
       "      <td>72</td>\n",
       "      <td>12</td>\n",
       "      <td>6.40</td>\n",
       "      <td>RU</td>\n",
       "      <td>1615216165</td>\n",
       "    </tr>\n",
       "    <tr>\n",
       "      <th>543</th>\n",
       "      <td>bilibino</td>\n",
       "      <td>68.0546</td>\n",
       "      <td>166.4372</td>\n",
       "      <td>-25.78</td>\n",
       "      <td>83</td>\n",
       "      <td>100</td>\n",
       "      <td>4.32</td>\n",
       "      <td>RU</td>\n",
       "      <td>1615216165</td>\n",
       "    </tr>\n",
       "    <tr>\n",
       "      <th>544</th>\n",
       "      <td>puerto escondido</td>\n",
       "      <td>15.8500</td>\n",
       "      <td>-97.0667</td>\n",
       "      <td>80.60</td>\n",
       "      <td>83</td>\n",
       "      <td>1</td>\n",
       "      <td>5.75</td>\n",
       "      <td>MX</td>\n",
       "      <td>1615216165</td>\n",
       "    </tr>\n",
       "  </tbody>\n",
       "</table>\n",
       "<p>545 rows × 9 columns</p>\n",
       "</div>"
      ],
      "text/plain": [
       "                 city      Lat       Lng  Max Temp  Humidity  Cloudiness  \\\n",
       "0             ushuaia -54.8000  -68.3000     51.80        58          75   \n",
       "1           ostrovnoy  68.0531   39.5131      1.22        89         100   \n",
       "2      severo-kurilsk  50.6789  156.1250     17.40        90          95   \n",
       "3         warrnambool -38.3833  142.4833     57.00        93          98   \n",
       "4            saryozek  44.3583   77.9753     35.83        94         100   \n",
       "..                ...      ...       ...       ...       ...         ...   \n",
       "540            jaffna   9.6685   80.0074     80.83        82          19   \n",
       "541            banjar  -8.1900  114.9675     80.60        89          40   \n",
       "542            evensk  61.9500  159.2333    -24.41        72          12   \n",
       "543          bilibino  68.0546  166.4372    -25.78        83         100   \n",
       "544  puerto escondido  15.8500  -97.0667     80.60        83           1   \n",
       "\n",
       "     Wind Speed Country        Date  \n",
       "0          8.05      AR  1615216045  \n",
       "1          1.61      RU  1615216045  \n",
       "2         20.22      RU  1615216046  \n",
       "3          6.82      AU  1615216046  \n",
       "4          4.54      KZ  1615216046  \n",
       "..          ...     ...         ...  \n",
       "540       12.84      LK  1615216165  \n",
       "541        2.30      ID  1615216165  \n",
       "542        6.40      RU  1615216165  \n",
       "543        4.32      RU  1615216165  \n",
       "544        5.75      MX  1615216165  \n",
       "\n",
       "[545 rows x 9 columns]"
      ]
     },
     "execution_count": 8,
     "metadata": {},
     "output_type": "execute_result"
    }
   ],
   "source": [
    "# Make a new DataFrame equal to the city data to drop all humidity outliers by index.\n",
    "clean_city_data_df=(city_data_df.loc[city_data_df['Humidity']<=100,:]).copy()\n",
    "clean_city_data_df"
   ]
  },
  {
   "cell_type": "code",
   "execution_count": 9,
   "metadata": {},
   "outputs": [],
   "source": [
    "# output the DataFrame into csv file\n",
    "clean_city_data_df.to_csv(output_data_file,index=False,header=True)"
   ]
  },
  {
   "cell_type": "code",
   "execution_count": 10,
   "metadata": {},
   "outputs": [
    {
     "data": {
      "text/plain": [
       "'03/07/2021'"
      ]
     },
     "execution_count": 10,
     "metadata": {},
     "output_type": "execute_result"
    }
   ],
   "source": [
    "# change the datastamp to month/day/year format\n",
    "from datetime import datetime\n",
    "timestamp = clean_city_data_df['Date'].max()\n",
    "dt_object = datetime.fromtimestamp(timestamp).strftime('%m/%d/%Y')\n",
    "dt_object"
   ]
  },
  {
   "cell_type": "markdown",
   "metadata": {},
   "source": [
    "## Plotting the Data\n",
    "* Use proper labeling of the plots using plot titles (including date of analysis) and axes labels.\n",
    "* Save the plotted figures as .pngs."
   ]
  },
  {
   "cell_type": "markdown",
   "metadata": {},
   "source": [
    "## Latitude vs. Temperature Plot"
   ]
  },
  {
   "cell_type": "code",
   "execution_count": 11,
   "metadata": {
    "scrolled": true
   },
   "outputs": [
    {
     "data": {
      "image/png": "[encoded data removed]",
      "text/plain": [
       "<Figure size 432x288 with 1 Axes>"
      ]
     },
     "metadata": {
      "needs_background": "light"
     },
     "output_type": "display_data"
    }
   ],
   "source": [
    "# gather the value and generate the scatter plot\n",
    "x_values = clean_city_data_df['Lat']\n",
    "y_values = clean_city_data_df['Max Temp']\n",
    "plt.scatter(x_values,y_values,marker=\"o\", facecolors=\"blue\", edgecolors=\"black\")\n",
    "plt.xlabel('Latitude')\n",
    "plt.ylabel('Max Temperature (F)')\n",
    "plt.title(f'City Latitude vs. Max Temperature on {dt_object}')\n",
    "plt.grid()\n",
    "plt.savefig(\"City Latitude vs. Max Temperature.png\")\n",
    "plt.show()"
   ]
  },
  {
   "cell_type": "markdown",
   "metadata": {},
   "source": [
    "## Latitude vs. Humidity Plot"
   ]
  },
  {
   "cell_type": "code",
   "execution_count": 12,
   "metadata": {},
   "outputs": [
    {
     "data": {
      "image/png": "[encoded data removed]",
      "text/plain": [
       "<Figure size 432x288 with 1 Axes>"
      ]
     },
     "metadata": {
      "needs_background": "light"
     },
     "output_type": "display_data"
    }
   ],
   "source": [
    "# gather the value and generate the scatter plot\n",
    "x_values = clean_city_data_df['Lat']\n",
    "y_values = clean_city_data_df['Humidity']\n",
    "plt.scatter(x_values,y_values,marker=\"o\", facecolors=\"blue\", edgecolors=\"black\")\n",
    "plt.xlabel('Latitude')\n",
    "plt.ylabel('Humidity (%)')\n",
    "plt.title(f'City Latitude vs. Humidity on {dt_object}')\n",
    "plt.grid()\n",
    "plt.savefig(\"City Latitude vs. Humidity.png\")\n",
    "plt.show()"
   ]
  },
  {
   "cell_type": "markdown",
   "metadata": {},
   "source": [
    "## Latitude vs. Cloudiness Plot"
   ]
  },
  {
   "cell_type": "code",
   "execution_count": 13,
   "metadata": {},
   "outputs": [
    {
     "data": {
      "image/png": "[encoded data removed]",
      "text/plain": [
       "<Figure size 432x288 with 1 Axes>"
      ]
     },
     "metadata": {
      "needs_background": "light"
     },
     "output_type": "display_data"
    }
   ],
   "source": [
    "# gather the value and generate the scatter plot\n",
    "x_values = clean_city_data_df['Lat']\n",
    "y_values = clean_city_data_df['Cloudiness']\n",
    "plt.scatter(x_values,y_values,marker=\"o\", facecolors=\"blue\", edgecolors=\"black\")\n",
    "plt.xlabel('Latitude')\n",
    "plt.ylabel('Cloudiness (%)')\n",
    "plt.title(f'City Latitude vs. Cloudiness on {dt_object}')\n",
    "plt.grid()\n",
    "plt.savefig(\"City Latitude vs. Cloudiness.png\")\n",
    "plt.show()"
   ]
  },
  {
   "cell_type": "markdown",
   "metadata": {},
   "source": [
    "## Latitude vs. Wind Speed Plot"
   ]
  },
  {
   "cell_type": "code",
   "execution_count": 14,
   "metadata": {},
   "outputs": [
    {
     "data": {
      "image/png": "[encoded data removed]",
      "text/plain": [
       "<Figure size 432x288 with 1 Axes>"
      ]
     },
     "metadata": {
      "needs_background": "light"
     },
     "output_type": "display_data"
    }
   ],
   "source": [
    "# gather the value and generate the scatter plot\n",
    "x_values = clean_city_data_df['Lat']\n",
    "y_values = clean_city_data_df['Wind Speed']\n",
    "plt.scatter(x_values,y_values,marker=\"o\", facecolors=\"blue\", edgecolors=\"black\")\n",
    "plt.xlabel('Latitude')\n",
    "plt.ylabel('Wind Speed (mph)')\n",
    "plt.title(f'City Latitude vs. Wind Speed on {dt_object}')\n",
    "plt.grid()\n",
    "plt.savefig(\"City Latitude vs. Wind Speed.png\")\n",
    "plt.show()"
   ]
  },
  {
   "cell_type": "markdown",
   "metadata": {},
   "source": [
    "## Linear Regression"
   ]
  },
  {
   "cell_type": "code",
   "execution_count": 22,
   "metadata": {},
   "outputs": [],
   "source": [
    "# create the dataframe for northen hemisphere and southern hemisphere\n",
    "north_df=clean_city_data_df.loc[clean_city_data_df['Lat']>=0,['Lat','Max Temp','Humidity','Cloudiness','Wind Speed']].copy()\n",
    "south_df=clean_city_data_df.loc[clean_city_data_df['Lat']<=0,['Lat','Max Temp','Humidity','Cloudiness','Wind Speed']].copy()"
   ]
  },
  {
   "cell_type": "markdown",
   "metadata": {},
   "source": [
    "####  Northern Hemisphere - Max Temp vs. Latitude Linear Regression"
   ]
  },
  {
   "cell_type": "code",
   "execution_count": 17,
   "metadata": {},
   "outputs": [
    {
     "name": "stdout",
     "output_type": "stream",
     "text": [
      "The r-squared is: 0.8110\n"
     ]
    },
    {
     "data": {
      "image/png": "[encoded data removed]",
      "text/plain": [
       "<Figure size 432x288 with 1 Axes>"
      ]
     },
     "metadata": {
      "needs_background": "light"
     },
     "output_type": "display_data"
    }
   ],
   "source": [
    "# gather the value and generate the scatter plot with linear regression\n",
    "x_values = north_df['Lat']\n",
    "y_values = north_df['Max Temp']\n",
    "(slope, intercept, rvalue, pvalue, stderr) = linregress(x_values, y_values)\n",
    "regress_values = x_values * slope + intercept\n",
    "line_eq = \"y = \" + str(round(slope,2)) + \"x + \" + str(round(intercept,2))\n",
    "plt.scatter(x_values,y_values)\n",
    "plt.plot(x_values,regress_values,\"r-\")\n",
    "plt.annotate(line_eq,(40,110),fontsize=15,color=\"red\")\n",
    "plt.xlabel(\"Latitude\")\n",
    "plt.ylabel(\"Max Temp\")\n",
    "print(f\"The r-squared is: {rvalue**2:.4f}\")\n",
    "plt.show()"
   ]
  },
  {
   "cell_type": "markdown",
   "metadata": {},
   "source": [
    "####  Southern Hemisphere - Max Temp vs. Latitude Linear Regression"
   ]
  },
  {
   "cell_type": "code",
   "execution_count": 21,
   "metadata": {},
   "outputs": [
    {
     "name": "stdout",
     "output_type": "stream",
     "text": [
      "The r-squared is: 0.4340\n"
     ]
    },
    {
     "data": {
      "image/png": "[encoded data removed]",
      "text/plain": [
       "<Figure size 432x288 with 1 Axes>"
      ]
     },
     "metadata": {
      "needs_background": "light"
     },
     "output_type": "display_data"
    }
   ],
   "source": [
    "# gather the value and generate the scatter plot with linear regression\n",
    "x_values = south_df['Lat']\n",
    "y_values = south_df['Max Temp']\n",
    "(slope, intercept, rvalue, pvalue, stderr) = linregress(x_values, y_values)\n",
    "regress_values = x_values * slope + intercept\n",
    "line_eq = \"y = \" + str(round(slope,2)) + \"x + \" + str(round(intercept,2))\n",
    "plt.scatter(x_values,y_values)\n",
    "plt.plot(x_values,regress_values,\"r-\")\n",
    "plt.annotate(line_eq,(-55,90),fontsize=15,color=\"red\")\n",
    "plt.xlabel(\"Latitude\")\n",
    "plt.ylabel(\"Max Temp\")\n",
    "print(f\"The r-squared is: {rvalue**2:.4f}\")\n",
    "plt.show()"
   ]
  },
  {
   "cell_type": "markdown",
   "metadata": {},
   "source": [
    "####  Northern Hemisphere - Humidity (%) vs. Latitude Linear Regression"
   ]
  },
  {
   "cell_type": "code",
   "execution_count": 24,
   "metadata": {},
   "outputs": [
    {
     "name": "stdout",
     "output_type": "stream",
     "text": [
      "The r-squared is: 0.1262\n"
     ]
    },
    {
     "data": {
      "image/png": "[encoded data removed]",
      "text/plain": [
       "<Figure size 432x288 with 1 Axes>"
      ]
     },
     "metadata": {
      "needs_background": "light"
     },
     "output_type": "display_data"
    }
   ],
   "source": [
    "# gather the value and generate the scatter plot with linear regression\n",
    "x_values = north_df['Lat']\n",
    "y_values = north_df['Humidity']\n",
    "(slope, intercept, rvalue, pvalue, stderr) = linregress(x_values, y_values)\n",
    "regress_values = x_values * slope + intercept\n",
    "line_eq = \"y = \" + str(round(slope,2)) + \"x + \" + str(round(intercept,2))\n",
    "plt.scatter(x_values,y_values)\n",
    "plt.plot(x_values,regress_values,\"r-\")\n",
    "plt.annotate(line_eq,(40,10),fontsize=15,color=\"red\")\n",
    "plt.xlabel(\"Latitude\")\n",
    "plt.ylabel(\"Humidity (%)\")\n",
    "print(f\"The r-squared is: {rvalue**2:.4f}\")\n",
    "plt.show()"
   ]
  },
  {
   "cell_type": "markdown",
   "metadata": {},
   "source": [
    "####  Southern Hemisphere - Humidity (%) vs. Latitude Linear Regression"
   ]
  },
  {
   "cell_type": "code",
   "execution_count": 28,
   "metadata": {},
   "outputs": [
    {
     "name": "stdout",
     "output_type": "stream",
     "text": [
      "The r-squared is: 0.0403\n"
     ]
    },
    {
     "data": {
      "image/png": "[encoded data removed]",
      "text/plain": [
       "<Figure size 432x288 with 1 Axes>"
      ]
     },
     "metadata": {
      "needs_background": "light"
     },
     "output_type": "display_data"
    }
   ],
   "source": [
    "# gather the value and generate the scatter plot with linear regression\n",
    "x_values = south_df['Lat']\n",
    "y_values = south_df['Humidity']\n",
    "(slope, intercept, rvalue, pvalue, stderr) = linregress(x_values, y_values)\n",
    "regress_values = x_values * slope + intercept\n",
    "line_eq = \"y = \" + str(round(slope,2)) + \"x + \" + str(round(intercept,2))\n",
    "plt.scatter(x_values,y_values)\n",
    "plt.plot(x_values,regress_values,\"r-\")\n",
    "plt.annotate(line_eq,(-50,15),fontsize=15,color=\"red\")\n",
    "plt.xlabel(\"Latitude\")\n",
    "plt.ylabel(\"Humidity (%)\")\n",
    "print(f\"The r-squared is: {rvalue**2:.4f}\")\n",
    "plt.show()"
   ]
  },
  {
   "cell_type": "markdown",
   "metadata": {},
   "source": [
    "####  Northern Hemisphere - Cloudiness (%) vs. Latitude Linear Regression"
   ]
  },
  {
   "cell_type": "code",
   "execution_count": 29,
   "metadata": {},
   "outputs": [
    {
     "name": "stdout",
     "output_type": "stream",
     "text": [
      "The r-squared is: 0.0644\n"
     ]
    },
    {
     "data": {
      "image/png": "[encoded data removed]",
      "text/plain": [
       "<Figure size 432x288 with 1 Axes>"
      ]
     },
     "metadata": {
      "needs_background": "light"
     },
     "output_type": "display_data"
    }
   ],
   "source": [
    "# gather the value and generate the scatter plot with linear regression\n",
    "x_values = north_df['Lat']\n",
    "y_values = north_df['Cloudiness']\n",
    "(slope, intercept, rvalue, pvalue, stderr) = linregress(x_values, y_values)\n",
    "regress_values = x_values * slope + intercept\n",
    "line_eq = \"y = \" + str(round(slope,2)) + \"x + \" + str(round(intercept,2))\n",
    "plt.scatter(x_values,y_values)\n",
    "plt.plot(x_values,regress_values,\"r-\")\n",
    "plt.annotate(line_eq,(40,10),fontsize=15,color=\"red\")\n",
    "plt.xlabel(\"Latitude\")\n",
    "plt.ylabel(\"Cloudiness (%)\")\n",
    "print(f\"The r-squared is: {rvalue**2:.4f}\")\n",
    "plt.show()"
   ]
  },
  {
   "cell_type": "markdown",
   "metadata": {},
   "source": [
    "####  Southern Hemisphere - Cloudiness (%) vs. Latitude Linear Regression"
   ]
  },
  {
   "cell_type": "code",
   "execution_count": 30,
   "metadata": {},
   "outputs": [
    {
     "name": "stdout",
     "output_type": "stream",
     "text": [
      "The r-squared is: 0.0954\n"
     ]
    },
    {
     "data": {
      "image/png": "[encoded data removed]",
      "text/plain": [
       "<Figure size 432x288 with 1 Axes>"
      ]
     },
     "metadata": {
      "needs_background": "light"
     },
     "output_type": "display_data"
    }
   ],
   "source": [
    "# gather the value and generate the scatter plot with linear regression\n",
    "x_values = south_df['Lat']\n",
    "y_values = south_df['Cloudiness']\n",
    "(slope, intercept, rvalue, pvalue, stderr) = linregress(x_values, y_values)\n",
    "regress_values = x_values * slope + intercept\n",
    "line_eq = \"y = \" + str(round(slope,2)) + \"x + \" + str(round(intercept,2))\n",
    "plt.scatter(x_values,y_values)\n",
    "plt.plot(x_values,regress_values,\"r-\")\n",
    "plt.annotate(line_eq,(-55,10),fontsize=15,color=\"red\")\n",
    "plt.xlabel(\"Latitude\")\n",
    "plt.ylabel(\"Cloudiness (%)\")\n",
    "print(f\"The r-squared is: {rvalue**2:.4f}\")\n",
    "plt.show()"
   ]
  },
  {
   "cell_type": "markdown",
   "metadata": {},
   "source": [
    "####  Northern Hemisphere - Wind Speed (mph) vs. Latitude Linear Regression"
   ]
  },
  {
   "cell_type": "code",
   "execution_count": 32,
   "metadata": {},
   "outputs": [
    {
     "name": "stdout",
     "output_type": "stream",
     "text": [
      "The r-squared is: 0.0097\n"
     ]
    },
    {
     "data": {
      "image/png": "[encoded data removed]",
      "text/plain": [
       "<Figure size 432x288 with 1 Axes>"
      ]
     },
     "metadata": {
      "needs_background": "light"
     },
     "output_type": "display_data"
    }
   ],
   "source": [
    "# gather the value and generate the scatter plot with linear regression\n",
    "x_values = north_df['Lat']\n",
    "y_values = north_df['Wind Speed']\n",
    "(slope, intercept, rvalue, pvalue, stderr) = linregress(x_values, y_values)\n",
    "regress_values = x_values * slope + intercept\n",
    "line_eq = \"y = \" + str(round(slope,2)) + \"x + \" + str(round(intercept,2))\n",
    "plt.scatter(x_values,y_values)\n",
    "plt.plot(x_values,regress_values,\"r-\")\n",
    "plt.annotate(line_eq,(30,25),fontsize=15,color=\"red\")\n",
    "plt.xlabel(\"Latitude\")\n",
    "plt.ylabel(\"Wind Speed mph\")\n",
    "print(f\"The r-squared is: {rvalue**2:.4f}\")\n",
    "plt.show()"
   ]
  },
  {
   "cell_type": "markdown",
   "metadata": {},
   "source": [
    "####  Southern Hemisphere - Wind Speed (mph) vs. Latitude Linear Regression"
   ]
  },
  {
   "cell_type": "code",
   "execution_count": 33,
   "metadata": {},
   "outputs": [
    {
     "name": "stdout",
     "output_type": "stream",
     "text": [
      "The r-squared is: 0.0442\n"
     ]
    },
    {
     "data": {
      "image/png": "[encoded data removed]",
      "text/plain": [
       "<Figure size 432x288 with 1 Axes>"
      ]
     },
     "metadata": {
      "needs_background": "light"
     },
     "output_type": "display_data"
    }
   ],
   "source": [
    "# gather the value and generate the scatter plot with linear regression\n",
    "x_values = south_df['Lat']\n",
    "y_values = south_df['Wind Speed']\n",
    "(slope, intercept, rvalue, pvalue, stderr) = linregress(x_values, y_values)\n",
    "regress_values = x_values * slope + intercept\n",
    "line_eq = \"y = \" + str(round(slope,2)) + \"x + \" + str(round(intercept,2))\n",
    "plt.scatter(x_values,y_values)\n",
    "plt.plot(x_values,regress_values,\"r-\")\n",
    "plt.annotate(line_eq,(-50,25),fontsize=15,color=\"red\")\n",
    "plt.xlabel(\"Latitude\")\n",
    "plt.ylabel(\"Wind Speed mph\")\n",
    "print(f\"The r-squared is: {rvalue**2:.4f}\")\n",
    "plt.show()"
   ]
  }
 ],
 "metadata": {
  "anaconda-cloud": {},
  "kernel_info": {
   "name": "python3"
  },
  "kernelspec": {
   "display_name": "Python 3",
   "language": "python",
   "name": "python3"
  },
  "language_info": {
   "codemirror_mode": {
    "name": "ipython",
    "version": 3
   },
   "file_extension": ".py",
   "mimetype": "text/x-python",
   "name": "python",
   "nbconvert_exporter": "python",
   "pygments_lexer": "ipython3",
   "version": "3.8.5"
  },
  "latex_envs": {
   "LaTeX_envs_menu_present": true,
   "autoclose": false,
   "autocomplete": true,
   "bibliofile": "biblio.bib",
   "cite_by": "apalike",
   "current_citInitial": 1,
   "eqLabelWithNumbers": true,
   "eqNumInitial": 1,
   "hotkeys": {
    "equation": "Ctrl-E",
    "itemize": "Ctrl-I"
   },
   "labels_anchors": false,
   "latex_user_defs": false,
   "report_style_numbering": false,
   "user_envs_cfg": false
  },
  "nteract": {
   "version": "0.12.3"
  }
 },
 "nbformat": 4,
 "nbformat_minor": 4
}
